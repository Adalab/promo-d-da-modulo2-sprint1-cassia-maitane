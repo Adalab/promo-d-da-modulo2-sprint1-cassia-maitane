{
 "cells": [
  {
   "attachments": {},
   "cell_type": "markdown",
   "metadata": {},
   "source": [
    "# Pair Programming Estadística III"
   ]
  },
  {
   "cell_type": "code",
   "execution_count": 21,
   "metadata": {},
   "outputs": [],
   "source": [
    "import pandas as pd\n",
    "import numpy as np\n",
    "import matplotlib.pyplot as plt\n",
    "import seaborn as sns\n",
    "import scipy.stats as st"
   ]
  },
  {
   "attachments": {},
   "cell_type": "markdown",
   "metadata": {},
   "source": [
    "Vamos ahora a tomar de nuevo el conjunto de datos con el que estuvimos trabajando en los últimos días y vamos a continuar con el análisis de las estadísitcas de los contenidos del conjunto de datos.  \n",
    "\n",
    "**Para todas los ejercicios de pair programming de Estadística I, II y III usaremos el dataframe que se tome para el desarrollo de este ejercicio de pair programming.**  \n",
    "\n",
    "> Se ruega a la hora de realizar la entrega que incluyais el conjunto de datos que hayais decidido emplear para estos ejercicios.  \n",
    "\n",
    "**Objetivos**  \n",
    "\n",
    "Los objetivos de hoy son:  \n",
    "\n",
    "1. Extraer los siguentes estadísiticos del conjunto de datos para varias de las varibles disponibles:\n",
    "    - Tabla de contingencia\n",
    "    - Coeficiente de correlación de las variables numéricas del dataset.\n",
    "    - Sesgos de alguna de las variables numéricas del dataset.\n",
    "    - Intervalo de confianza de algunas de las variables numéricas del dataset"
   ]
  },
  {
   "cell_type": "code",
   "execution_count": 5,
   "metadata": {},
   "outputs": [
    {
     "data": {
      "text/html": [
       "<div>\n",
       "<style scoped>\n",
       "    .dataframe tbody tr th:only-of-type {\n",
       "        vertical-align: middle;\n",
       "    }\n",
       "\n",
       "    .dataframe tbody tr th {\n",
       "        vertical-align: top;\n",
       "    }\n",
       "\n",
       "    .dataframe thead th {\n",
       "        text-align: right;\n",
       "    }\n",
       "</style>\n",
       "<table border=\"1\" class=\"dataframe\">\n",
       "  <thead>\n",
       "    <tr style=\"text-align: right;\">\n",
       "      <th></th>\n",
       "      <th>Store</th>\n",
       "      <th>DayOfWeek</th>\n",
       "      <th>Date</th>\n",
       "      <th>Sales</th>\n",
       "      <th>Customers</th>\n",
       "      <th>Open</th>\n",
       "      <th>Promo</th>\n",
       "      <th>StateHoliday</th>\n",
       "      <th>SchoolHoliday</th>\n",
       "      <th>SalesRange</th>\n",
       "      <th>CustomersRange</th>\n",
       "    </tr>\n",
       "  </thead>\n",
       "  <tbody>\n",
       "    <tr>\n",
       "      <th>0</th>\n",
       "      <td>1</td>\n",
       "      <td>Friday</td>\n",
       "      <td>2015-07-31</td>\n",
       "      <td>5263</td>\n",
       "      <td>555</td>\n",
       "      <td>1</td>\n",
       "      <td>1</td>\n",
       "      <td>0</td>\n",
       "      <td>1</td>\n",
       "      <td>Normal</td>\n",
       "      <td>Some</td>\n",
       "    </tr>\n",
       "    <tr>\n",
       "      <th>1</th>\n",
       "      <td>2</td>\n",
       "      <td>Friday</td>\n",
       "      <td>2015-07-31</td>\n",
       "      <td>6064</td>\n",
       "      <td>625</td>\n",
       "      <td>1</td>\n",
       "      <td>1</td>\n",
       "      <td>0</td>\n",
       "      <td>1</td>\n",
       "      <td>Normal</td>\n",
       "      <td>Some</td>\n",
       "    </tr>\n",
       "    <tr>\n",
       "      <th>2</th>\n",
       "      <td>3</td>\n",
       "      <td>Friday</td>\n",
       "      <td>2015-07-31</td>\n",
       "      <td>8314</td>\n",
       "      <td>821</td>\n",
       "      <td>1</td>\n",
       "      <td>1</td>\n",
       "      <td>0</td>\n",
       "      <td>1</td>\n",
       "      <td>Normal</td>\n",
       "      <td>Some</td>\n",
       "    </tr>\n",
       "    <tr>\n",
       "      <th>3</th>\n",
       "      <td>4</td>\n",
       "      <td>Friday</td>\n",
       "      <td>2015-07-31</td>\n",
       "      <td>13995</td>\n",
       "      <td>1498</td>\n",
       "      <td>1</td>\n",
       "      <td>1</td>\n",
       "      <td>0</td>\n",
       "      <td>1</td>\n",
       "      <td>Very high</td>\n",
       "      <td>A lot</td>\n",
       "    </tr>\n",
       "    <tr>\n",
       "      <th>4</th>\n",
       "      <td>5</td>\n",
       "      <td>Friday</td>\n",
       "      <td>2015-07-31</td>\n",
       "      <td>4822</td>\n",
       "      <td>559</td>\n",
       "      <td>1</td>\n",
       "      <td>1</td>\n",
       "      <td>0</td>\n",
       "      <td>1</td>\n",
       "      <td>Low</td>\n",
       "      <td>Some</td>\n",
       "    </tr>\n",
       "  </tbody>\n",
       "</table>\n",
       "</div>"
      ],
      "text/plain": [
       "   Store DayOfWeek        Date  Sales  Customers  Open  Promo StateHoliday  \\\n",
       "0      1    Friday  2015-07-31   5263        555     1      1            0   \n",
       "1      2    Friday  2015-07-31   6064        625     1      1            0   \n",
       "2      3    Friday  2015-07-31   8314        821     1      1            0   \n",
       "3      4    Friday  2015-07-31  13995       1498     1      1            0   \n",
       "4      5    Friday  2015-07-31   4822        559     1      1            0   \n",
       "\n",
       "   SchoolHoliday SalesRange CustomersRange  \n",
       "0              1     Normal           Some  \n",
       "1              1     Normal           Some  \n",
       "2              1     Normal           Some  \n",
       "3              1  Very high          A lot  \n",
       "4              1        Low           Some  "
      ]
     },
     "execution_count": 5,
     "metadata": {},
     "output_type": "execute_result"
    }
   ],
   "source": [
    "df = pd.read_csv('datos/open2.csv', index_col=0)\n",
    "df.head()"
   ]
  },
  {
   "cell_type": "code",
   "execution_count": 11,
   "metadata": {},
   "outputs": [
    {
     "data": {
      "text/html": [
       "<div>\n",
       "<style scoped>\n",
       "    .dataframe tbody tr th:only-of-type {\n",
       "        vertical-align: middle;\n",
       "    }\n",
       "\n",
       "    .dataframe tbody tr th {\n",
       "        vertical-align: top;\n",
       "    }\n",
       "\n",
       "    .dataframe thead th {\n",
       "        text-align: right;\n",
       "    }\n",
       "</style>\n",
       "<table border=\"1\" class=\"dataframe\">\n",
       "  <thead>\n",
       "    <tr style=\"text-align: right;\">\n",
       "      <th>SalesRange</th>\n",
       "      <th>Extraordinay</th>\n",
       "      <th>High</th>\n",
       "      <th>Low</th>\n",
       "      <th>Normal</th>\n",
       "      <th>Very high</th>\n",
       "      <th>All</th>\n",
       "    </tr>\n",
       "    <tr>\n",
       "      <th>DayOfWeek</th>\n",
       "      <th></th>\n",
       "      <th></th>\n",
       "      <th></th>\n",
       "      <th></th>\n",
       "      <th></th>\n",
       "      <th></th>\n",
       "    </tr>\n",
       "  </thead>\n",
       "  <tbody>\n",
       "    <tr>\n",
       "      <th>Friday</th>\n",
       "      <td>0.000015</td>\n",
       "      <td>0.034798</td>\n",
       "      <td>0.031646</td>\n",
       "      <td>0.092178</td>\n",
       "      <td>0.005555</td>\n",
       "      <td>0.164191</td>\n",
       "    </tr>\n",
       "    <tr>\n",
       "      <th>Monday</th>\n",
       "      <td>0.000072</td>\n",
       "      <td>0.051136</td>\n",
       "      <td>0.027025</td>\n",
       "      <td>0.068879</td>\n",
       "      <td>0.015805</td>\n",
       "      <td>0.162917</td>\n",
       "    </tr>\n",
       "    <tr>\n",
       "      <th>Saturday</th>\n",
       "      <td>0.000008</td>\n",
       "      <td>0.021547</td>\n",
       "      <td>0.068357</td>\n",
       "      <td>0.076501</td>\n",
       "      <td>0.004196</td>\n",
       "      <td>0.170609</td>\n",
       "    </tr>\n",
       "    <tr>\n",
       "      <th>Sunday</th>\n",
       "      <td>0.000044</td>\n",
       "      <td>0.000844</td>\n",
       "      <td>0.001505</td>\n",
       "      <td>0.001114</td>\n",
       "      <td>0.000747</td>\n",
       "      <td>0.004255</td>\n",
       "    </tr>\n",
       "    <tr>\n",
       "      <th>Thursday</th>\n",
       "      <td>0.000013</td>\n",
       "      <td>0.028897</td>\n",
       "      <td>0.038700</td>\n",
       "      <td>0.086662</td>\n",
       "      <td>0.005173</td>\n",
       "      <td>0.159446</td>\n",
       "    </tr>\n",
       "    <tr>\n",
       "      <th>Tuesday</th>\n",
       "      <td>0.000023</td>\n",
       "      <td>0.037666</td>\n",
       "      <td>0.039900</td>\n",
       "      <td>0.085257</td>\n",
       "      <td>0.007649</td>\n",
       "      <td>0.170495</td>\n",
       "    </tr>\n",
       "    <tr>\n",
       "      <th>Wednesday</th>\n",
       "      <td>0.000006</td>\n",
       "      <td>0.030437</td>\n",
       "      <td>0.042900</td>\n",
       "      <td>0.089419</td>\n",
       "      <td>0.005325</td>\n",
       "      <td>0.168087</td>\n",
       "    </tr>\n",
       "    <tr>\n",
       "      <th>All</th>\n",
       "      <td>0.000181</td>\n",
       "      <td>0.205325</td>\n",
       "      <td>0.250033</td>\n",
       "      <td>0.500011</td>\n",
       "      <td>0.044450</td>\n",
       "      <td>1.000000</td>\n",
       "    </tr>\n",
       "  </tbody>\n",
       "</table>\n",
       "</div>"
      ],
      "text/plain": [
       "SalesRange  Extraordinay      High       Low    Normal  Very high       All\n",
       "DayOfWeek                                                                  \n",
       "Friday          0.000015  0.034798  0.031646  0.092178   0.005555  0.164191\n",
       "Monday          0.000072  0.051136  0.027025  0.068879   0.015805  0.162917\n",
       "Saturday        0.000008  0.021547  0.068357  0.076501   0.004196  0.170609\n",
       "Sunday          0.000044  0.000844  0.001505  0.001114   0.000747  0.004255\n",
       "Thursday        0.000013  0.028897  0.038700  0.086662   0.005173  0.159446\n",
       "Tuesday         0.000023  0.037666  0.039900  0.085257   0.007649  0.170495\n",
       "Wednesday       0.000006  0.030437  0.042900  0.089419   0.005325  0.168087\n",
       "All             0.000181  0.205325  0.250033  0.500011   0.044450  1.000000"
      ]
     },
     "execution_count": 11,
     "metadata": {},
     "output_type": "execute_result"
    }
   ],
   "source": [
    "# tabla de contingencia columnas 'DayOfWeek' y 'SalesRange'\n",
    "df_crosstab = pd.crosstab(df['DayOfWeek'], df['SalesRange'], margins=True, normalize=True) \n",
    "df_crosstab"
   ]
  },
  {
   "cell_type": "code",
   "execution_count": 26,
   "metadata": {},
   "outputs": [
    {
     "data": {
      "text/html": [
       "<div>\n",
       "<style scoped>\n",
       "    .dataframe tbody tr th:only-of-type {\n",
       "        vertical-align: middle;\n",
       "    }\n",
       "\n",
       "    .dataframe tbody tr th {\n",
       "        vertical-align: top;\n",
       "    }\n",
       "\n",
       "    .dataframe thead th {\n",
       "        text-align: right;\n",
       "    }\n",
       "</style>\n",
       "<table border=\"1\" class=\"dataframe\">\n",
       "  <thead>\n",
       "    <tr style=\"text-align: right;\">\n",
       "      <th>SalesRange</th>\n",
       "      <th>Extraordinay</th>\n",
       "      <th>High</th>\n",
       "      <th>Low</th>\n",
       "      <th>Normal</th>\n",
       "      <th>Very high</th>\n",
       "      <th>All</th>\n",
       "    </tr>\n",
       "    <tr>\n",
       "      <th>CustomersRange</th>\n",
       "      <th></th>\n",
       "      <th></th>\n",
       "      <th></th>\n",
       "      <th></th>\n",
       "      <th></th>\n",
       "      <th></th>\n",
       "    </tr>\n",
       "  </thead>\n",
       "  <tbody>\n",
       "    <tr>\n",
       "      <th>A few</th>\n",
       "      <td>0.000000</td>\n",
       "      <td>0.000258</td>\n",
       "      <td>0.178286</td>\n",
       "      <td>0.072386</td>\n",
       "      <td>0.000018</td>\n",
       "      <td>0.250948</td>\n",
       "    </tr>\n",
       "    <tr>\n",
       "      <th>A lot</th>\n",
       "      <td>0.000000</td>\n",
       "      <td>0.118797</td>\n",
       "      <td>0.001267</td>\n",
       "      <td>0.068503</td>\n",
       "      <td>0.016756</td>\n",
       "      <td>0.205324</td>\n",
       "    </tr>\n",
       "    <tr>\n",
       "      <th>Crowded</th>\n",
       "      <td>0.000060</td>\n",
       "      <td>0.014206</td>\n",
       "      <td>0.000002</td>\n",
       "      <td>0.002257</td>\n",
       "      <td>0.026772</td>\n",
       "      <td>0.043299</td>\n",
       "    </tr>\n",
       "    <tr>\n",
       "      <th>Extremely crowded</th>\n",
       "      <td>0.000118</td>\n",
       "      <td>0.000001</td>\n",
       "      <td>0.000000</td>\n",
       "      <td>0.000000</td>\n",
       "      <td>0.000257</td>\n",
       "      <td>0.000377</td>\n",
       "    </tr>\n",
       "    <tr>\n",
       "      <th>Some</th>\n",
       "      <td>0.000002</td>\n",
       "      <td>0.072062</td>\n",
       "      <td>0.070477</td>\n",
       "      <td>0.356864</td>\n",
       "      <td>0.000647</td>\n",
       "      <td>0.500052</td>\n",
       "    </tr>\n",
       "    <tr>\n",
       "      <th>All</th>\n",
       "      <td>0.000181</td>\n",
       "      <td>0.205325</td>\n",
       "      <td>0.250033</td>\n",
       "      <td>0.500011</td>\n",
       "      <td>0.044450</td>\n",
       "      <td>1.000000</td>\n",
       "    </tr>\n",
       "  </tbody>\n",
       "</table>\n",
       "</div>"
      ],
      "text/plain": [
       "SalesRange         Extraordinay      High       Low    Normal  Very high  \\\n",
       "CustomersRange                                                             \n",
       "A few                  0.000000  0.000258  0.178286  0.072386   0.000018   \n",
       "A lot                  0.000000  0.118797  0.001267  0.068503   0.016756   \n",
       "Crowded                0.000060  0.014206  0.000002  0.002257   0.026772   \n",
       "Extremely crowded      0.000118  0.000001  0.000000  0.000000   0.000257   \n",
       "Some                   0.000002  0.072062  0.070477  0.356864   0.000647   \n",
       "All                    0.000181  0.205325  0.250033  0.500011   0.044450   \n",
       "\n",
       "SalesRange              All  \n",
       "CustomersRange               \n",
       "A few              0.250948  \n",
       "A lot              0.205324  \n",
       "Crowded            0.043299  \n",
       "Extremely crowded  0.000377  \n",
       "Some               0.500052  \n",
       "All                1.000000  "
      ]
     },
     "execution_count": 26,
     "metadata": {},
     "output_type": "execute_result"
    }
   ],
   "source": [
    "# tabla de contingencia columnas 'CustomersRange' y 'SalesRange'\n",
    "df_crosstab2 = pd.crosstab(df['CustomersRange'], df['SalesRange'], margins=True, normalize=True) \n",
    "df_crosstab2"
   ]
  },
  {
   "cell_type": "code",
   "execution_count": 13,
   "metadata": {},
   "outputs": [
    {
     "data": {
      "text/plain": [
       "0.82"
      ]
     },
     "execution_count": 13,
     "metadata": {},
     "output_type": "execute_result"
    }
   ],
   "source": [
    "# coeficiente de correlación entre las columnas 'Customers' y 'Sales'. El resto de columnas numéricas realmente solo incluyen valores 0 y 1 como indicación True/False o el número de la tienda, así que no se analizan.\n",
    "coef_correl = round(df['Sales'].corr(df['Customers']), 2)\n",
    "coef_correl"
   ]
  },
  {
   "cell_type": "code",
   "execution_count": 36,
   "metadata": {},
   "outputs": [
    {
     "name": "stderr",
     "output_type": "stream",
     "text": [
      "/tmp/ipykernel_764/1457494478.py:1: FutureWarning: The default value of numeric_only in DataFrame.corr is deprecated. In a future version, it will default to False. Select only valid columns or specify the value of numeric_only to silence this warning.\n",
      "  sns.heatmap(df.corr()[['Sales']], cmap= 'mako', annot= True, vmin= -1, vmax= 1)\n"
     ]
    },
    {
     "data": {
      "text/plain": [
       "<Axes: >"
      ]
     },
     "execution_count": 36,
     "metadata": {},
     "output_type": "execute_result"
    },
    {
     "data": {
      "image/png": "[encoded data removed]",
      "text/plain": [
       "<Figure size 640x480 with 2 Axes>"
      ]
     },
     "metadata": {},
     "output_type": "display_data"
    }
   ],
   "source": [
    "# Para verlo de forma gráfica obtenemos el heatmap de la columna 'Sales' y nos fijamos en el valor de su correspondencia con la columnas 'Customers'\n",
    "sns.heatmap(df.corr()[['Sales']], cmap= 'mako', annot= True, vmin= -1, vmax= 1)"
   ]
  },
  {
   "cell_type": "code",
   "execution_count": 16,
   "metadata": {},
   "outputs": [
    {
     "data": {
      "text/plain": [
       "<seaborn.axisgrid.FacetGrid at 0x7f666449a560>"
      ]
     },
     "execution_count": 16,
     "metadata": {},
     "output_type": "execute_result"
    },
    {
     "data": {
      "image/png": "[encoded data removed]",
      "text/plain": [
       "<Figure size 500x500 with 1 Axes>"
      ]
     },
     "metadata": {},
     "output_type": "display_data"
    }
   ],
   "source": [
    "# sesgo de la columna 'Sales'\n",
    "sns.displot(df['Sales'], color='green', kde=True, bins=20)"
   ]
  },
  {
   "attachments": {},
   "cell_type": "markdown",
   "metadata": {},
   "source": [
    "-La distribución de los datos de la columna 'Sales' está sesgada a la derecha."
   ]
  },
  {
   "cell_type": "code",
   "execution_count": 22,
   "metadata": {},
   "outputs": [
    {
     "data": {
      "text/plain": [
       "2.79"
      ]
     },
     "execution_count": 22,
     "metadata": {},
     "output_type": "execute_result"
    }
   ],
   "source": [
    "# sesgo de la columna 'Customers'\n",
    "skewness = round(skew(df['Customers']), 2)\n",
    "skewness"
   ]
  },
  {
   "attachments": {},
   "cell_type": "markdown",
   "metadata": {},
   "source": [
    "-La distribución de los datos de la columna 'Customers' está sesgada a la derecha porque el valor es positivo."
   ]
  },
  {
   "cell_type": "code",
   "execution_count": 37,
   "metadata": {},
   "outputs": [
    {
     "name": "stderr",
     "output_type": "stream",
     "text": [
      "/tmp/ipykernel_764/3371255665.py:2: DeprecationWarning: Use of keyword argument 'alpha' for method 'interval' is deprecated and wil be removed in SciPy 1.11.0. Use first positional argument or keyword argument 'confidence' instead.\n",
      "  st.t.interval(alpha=0.95, df=len(df['Sales'])-1, loc=np.mean(df['Sales']), scale=st.sem(df['Sales']))\n"
     ]
    },
    {
     "data": {
      "text/plain": [
       "(6948.8932172864725, 6962.135364225432)"
      ]
     },
     "execution_count": 37,
     "metadata": {},
     "output_type": "execute_result"
    }
   ],
   "source": [
    "# Intervalo de confianza de la columna 'Sales'\n",
    "st.t.interval(alpha=0.95, df=len(df['Sales'])-1, loc=np.mean(df['Sales']), scale=st.sem(df['Sales']))"
   ]
  },
  {
   "cell_type": "code",
   "execution_count": 39,
   "metadata": {},
   "outputs": [
    {
     "name": "stderr",
     "output_type": "stream",
     "text": [
      "/tmp/ipykernel_764/502794808.py:2: DeprecationWarning: Use of keyword argument 'alpha' for method 'interval' is deprecated and wil be removed in SciPy 1.11.0. Use first positional argument or keyword argument 'confidence' instead.\n",
      "  st.t.interval(alpha=0.99, df=len(df['Customers'])-1, loc=np.mean(df['Customers']), scale=st.sem(df['Customers']))\n"
     ]
    },
    {
     "data": {
      "text/plain": [
       "(761.6036946094314, 763.85309560175)"
      ]
     },
     "execution_count": 39,
     "metadata": {},
     "output_type": "execute_result"
    }
   ],
   "source": [
    "# Intervalo de confianza de la columna 'Customers'\n",
    "st.t.interval(alpha=0.99, df=len(df['Customers'])-1, loc=np.mean(df['Customers']), scale=st.sem(df['Customers']))"
   ]
  },
  {
   "attachments": {},
   "cell_type": "markdown",
   "metadata": {},
   "source": [
    "2. Interpretación de los resultados.  \n",
    "    - Ahora interpreta los resultados obtenidos de los diferentes estadísticos estudiados haciendo hincapié en aspectos interesantes de tus datos y explica lo mejor posible la naturaleza de los mismos."
   ]
  },
  {
   "attachments": {},
   "cell_type": "markdown",
   "metadata": {},
   "source": [
    "- Tabla de contingencia DayOfWeek-SalesRange: Los lunes tienden a tener ventas mayores que el resto de días en las categorías de ventas 'High', 'Very high' y 'Extraordinary'. Los sábados tienden a tener ventas más bajas que el resto de días.\n",
    "- Tabla de contingencia CustomersRange-SalesRange: La mayor frecuencia se da entre las categorias de ambas variales del mismo orden (la primera categoría de CustomersRange tiene una relación más fuerte con la primera categoría de SalesRange etc.)\n",
    "- Coeficiente de correlación y heatmap: La correlación entre las columnas 'Sales' y 'Customers' es positiva y muy alta (0.82), de manera que según aumenta el número de clientes aumentarán las ventas.\n",
    "- Sesgos: La distribución de los datos de la columna 'Sales' está sesgada a la derecha. La distribución de los datos de la columna 'Customers' está sesgada a la derecha porque el valor es positivo.\n",
    "- Intervalos de confianza: Hay un 95% de probabilidad de que las ventas de un día estén entre 6948.89€ y 6962.14€. hay un 99% de probabilidad de que el número de clientes de un día esté entre 761 y 764.\n"
   ]
  }
 ],
 "metadata": {
  "kernelspec": {
   "display_name": "adalabenv",
   "language": "python",
   "name": "python3"
  },
  "language_info": {
   "codemirror_mode": {
    "name": "ipython",
    "version": 3
   },
   "file_extension": ".py",
   "mimetype": "text/x-python",
   "name": "python",
   "nbconvert_exporter": "python",
   "pygments_lexer": "ipython3",
   "version": "3.10.9"
  },
  "orig_nbformat": 4
 },
 "nbformat": 4,
 "nbformat_minor": 2
}
