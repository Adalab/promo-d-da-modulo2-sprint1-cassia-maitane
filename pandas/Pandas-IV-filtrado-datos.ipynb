{
 "cells": [
  {
   "attachments": {},
   "cell_type": "markdown",
   "metadata": {},
   "source": [
    "# Pair Programming Pandas IV"
   ]
  },
  {
   "cell_type": "code",
   "execution_count": 38,
   "metadata": {},
   "outputs": [],
   "source": [
    "import pandas as pd\n",
    "import numpy as np"
   ]
  },
  {
   "attachments": {},
   "cell_type": "markdown",
   "metadata": {},
   "source": [
    "Hoy seguiremos trabajando con los `csv's` que exploramos ayer. Para eso, ayer guardasteis un fichero al final del pair programming al que le habíamos elimiando algunas columnas. En concreto solo trabajaremos con el de `2016.xlsx` que guardasteis ayer.  \n",
    "\n",
    "En la lección de hoy tendréis que ir contestando una serie de preguntas que os planteamos. Para ello tendréis que aplicar los conocimientos adquiridos en la clase invertida sobre como filtrar datos en el DataFrame y como reemplazar valores en el DataFrame.  \n",
    "\n",
    "El filtrado de datos es una herramienta importante en el análisis exploratorio de datos porque nos permite como analista de datos enfocarse en un subconjunto específico de datos que es relevante para el problema que se está abordando. En muchas ocasiones, los conjuntos de datos pueden ser muy grandes y complejos, y analizar todo el conjunto puede ser abrumador y poco práctico. El filtrado de datos nos permite reducir el tamaño del conjunto de datos para poder realizar un análisis más detallado y eficiente. Además, el filtrado de datos puede ayudar a descubrir patrones y relaciones ocultas en los datos que de otra manera no serían evidentes. Al filtrar los datos de manera sistemática y examinar las relaciones entre las variables, se pueden encontrar patrones que sugieren correlaciones, causas subyacentes, anomalías y tendencias. Por último, el filtrado de datos también puede ayudar a identificar valores atípicos y errores en los datos que pueden tener un impacto significativo en los resultados del análisis. La eliminación de estos datos erróneos puede mejorar la precisión y la calidad del análisis.  \n",
    "\n",
    "Los objetivos de la clase de hoy son:\n",
    "\n",
    "1. Cargad el `csv` que guardasteis ayer.  \n",
    "    Antes de seguir con las preguntas, para evitar posibles errores con los nulos vamos a eliminar todos los nulos del DataFrame, esto lo haremos sobre el archivo de `2016.xlsx`. Para ello vamos a utilizar el método .dropna() de Pandas. Tendréis que ejecutar la siguiente línea de código para eliminar los nulos del DataFrame y poder seguir haciendo el resto de los ejercicios.  \n",
    "    ```python\n",
    "        df.dropna(inplace = True) \n",
    "    ``` \n",
    "\n",
    "    ¿Cuántas filas se han eliminado con esta línea de código?"
   ]
  },
  {
   "cell_type": "code",
   "execution_count": 3,
   "metadata": {},
   "outputs": [
    {
     "data": {
      "text/html": [
       "<div>\n",
       "<style scoped>\n",
       "    .dataframe tbody tr th:only-of-type {\n",
       "        vertical-align: middle;\n",
       "    }\n",
       "\n",
       "    .dataframe tbody tr th {\n",
       "        vertical-align: top;\n",
       "    }\n",
       "\n",
       "    .dataframe thead th {\n",
       "        text-align: right;\n",
       "    }\n",
       "</style>\n",
       "<table border=\"1\" class=\"dataframe\">\n",
       "  <thead>\n",
       "    <tr style=\"text-align: right;\">\n",
       "      <th></th>\n",
       "      <th>fecha</th>\n",
       "      <th>id_empleado</th>\n",
       "      <th>id_agente</th>\n",
       "      <th>categoría</th>\n",
       "      <th>tipo</th>\n",
       "      <th>severidad</th>\n",
       "      <th>prioridad</th>\n",
       "      <th>días_resolución</th>\n",
       "      <th>satisfacción</th>\n",
       "    </tr>\n",
       "    <tr>\n",
       "      <th>id_ticket</th>\n",
       "      <th></th>\n",
       "      <th></th>\n",
       "      <th></th>\n",
       "      <th></th>\n",
       "      <th></th>\n",
       "      <th></th>\n",
       "      <th></th>\n",
       "      <th></th>\n",
       "      <th></th>\n",
       "    </tr>\n",
       "  </thead>\n",
       "  <tbody>\n",
       "    <tr>\n",
       "      <th>GDDENR-5042564453</th>\n",
       "      <td>2016-07-13</td>\n",
       "      <td>1735.0</td>\n",
       "      <td>4.0</td>\n",
       "      <td>Acceso&amp;%Login</td>\n",
       "      <td>Problema</td>\n",
       "      <td>0 - Sin Clasificar</td>\n",
       "      <td>0 - Sin Asignar</td>\n",
       "      <td>0.0</td>\n",
       "      <td>5.0</td>\n",
       "    </tr>\n",
       "    <tr>\n",
       "      <th>GDDENR-8042508060</th>\n",
       "      <td>2016-05-18</td>\n",
       "      <td>1566.0</td>\n",
       "      <td>10.0</td>\n",
       "      <td>Acceso&amp;%Login</td>\n",
       "      <td>Problema</td>\n",
       "      <td>0 - Sin Clasificar</td>\n",
       "      <td>0 - Sin Asignar</td>\n",
       "      <td>0.0</td>\n",
       "      <td>5.0</td>\n",
       "    </tr>\n",
       "    <tr>\n",
       "      <th>GDDESR-1342539995</th>\n",
       "      <td>2016-06-18</td>\n",
       "      <td>569.0</td>\n",
       "      <td>29.0</td>\n",
       "      <td>Sistema</td>\n",
       "      <td>Problema</td>\n",
       "      <td>0 - Sin Clasificar</td>\n",
       "      <td>0 - Sin Asignar</td>\n",
       "      <td>3.0</td>\n",
       "      <td>5.0</td>\n",
       "    </tr>\n",
       "    <tr>\n",
       "      <th>GDDTSR-5942488006</th>\n",
       "      <td>2016-04-28</td>\n",
       "      <td>320.0</td>\n",
       "      <td>40.0</td>\n",
       "      <td>Sistema</td>\n",
       "      <td>Solicitud</td>\n",
       "      <td>0 - Sin Clasificar</td>\n",
       "      <td>0 - Sin Asignar</td>\n",
       "      <td>9.0</td>\n",
       "      <td>5.0</td>\n",
       "    </tr>\n",
       "    <tr>\n",
       "      <th>GDLEER-0042524120</th>\n",
       "      <td>2016-06-03</td>\n",
       "      <td>1842.0</td>\n",
       "      <td>31.0</td>\n",
       "      <td>Software</td>\n",
       "      <td>Problema</td>\n",
       "      <td>2 - Normal</td>\n",
       "      <td>0 - Sin Asignar</td>\n",
       "      <td>0.0</td>\n",
       "      <td>5.0</td>\n",
       "    </tr>\n",
       "  </tbody>\n",
       "</table>\n",
       "</div>"
      ],
      "text/plain": [
       "                       fecha  id_empleado  id_agente      categoría  \\\n",
       "id_ticket                                                             \n",
       "GDDENR-5042564453 2016-07-13       1735.0        4.0  Acceso&%Login   \n",
       "GDDENR-8042508060 2016-05-18       1566.0       10.0  Acceso&%Login   \n",
       "GDDESR-1342539995 2016-06-18        569.0       29.0        Sistema   \n",
       "GDDTSR-5942488006 2016-04-28        320.0       40.0        Sistema   \n",
       "GDLEER-0042524120 2016-06-03       1842.0       31.0       Software   \n",
       "\n",
       "                        tipo           severidad        prioridad  \\\n",
       "id_ticket                                                           \n",
       "GDDENR-5042564453   Problema  0 - Sin Clasificar  0 - Sin Asignar   \n",
       "GDDENR-8042508060   Problema  0 - Sin Clasificar  0 - Sin Asignar   \n",
       "GDDESR-1342539995   Problema  0 - Sin Clasificar  0 - Sin Asignar   \n",
       "GDDTSR-5942488006  Solicitud  0 - Sin Clasificar  0 - Sin Asignar   \n",
       "GDLEER-0042524120   Problema          2 - Normal  0 - Sin Asignar   \n",
       "\n",
       "                   días_resolución  satisfacción  \n",
       "id_ticket                                         \n",
       "GDDENR-5042564453              0.0           5.0  \n",
       "GDDENR-8042508060              0.0           5.0  \n",
       "GDDESR-1342539995              3.0           5.0  \n",
       "GDDTSR-5942488006              9.0           5.0  \n",
       "GDLEER-0042524120              0.0           5.0  "
      ]
     },
     "execution_count": 3,
     "metadata": {},
     "output_type": "execute_result"
    }
   ],
   "source": [
    "df = pd.read_excel('datos/2016_2.xlsx', index_col=0) \n",
    "df.head()"
   ]
  },
  {
   "cell_type": "code",
   "execution_count": 4,
   "metadata": {},
   "outputs": [
    {
     "data": {
      "text/plain": [
       "13051"
      ]
     },
     "execution_count": 4,
     "metadata": {},
     "output_type": "execute_result"
    }
   ],
   "source": [
    "filas_antes = df.shape[0]\n",
    "filas_antes"
   ]
  },
  {
   "cell_type": "code",
   "execution_count": 5,
   "metadata": {},
   "outputs": [
    {
     "name": "stdout",
     "output_type": "stream",
     "text": [
      "Se han borrado 111 filas de valores nulos\n"
     ]
    }
   ],
   "source": [
    "df.dropna(inplace=True)\n",
    "filas_no_nulas = df.shape[0]\n",
    "filas_borradas = filas_antes - filas_no_nulas\n",
    "print(f'Se han borrado {filas_borradas} filas de valores nulos')"
   ]
  },
  {
   "attachments": {},
   "cell_type": "markdown",
   "metadata": {},
   "source": [
    "2. ¿Cuál es el número de incidencias que se han dado de tipo \"Sistema\", lo encontraréis en la columna de `categoría`?"
   ]
  },
  {
   "cell_type": "code",
   "execution_count": 6,
   "metadata": {},
   "outputs": [
    {
     "data": {
      "text/plain": [
       "Index(['fecha', 'id_empleado', 'id_agente', 'categoría', 'tipo', 'severidad',\n",
       "       'prioridad', 'días_resolución', 'satisfacción'],\n",
       "      dtype='object')"
      ]
     },
     "execution_count": 6,
     "metadata": {},
     "output_type": "execute_result"
    }
   ],
   "source": [
    "df.columns"
   ]
  },
  {
   "cell_type": "code",
   "execution_count": 7,
   "metadata": {},
   "outputs": [
    {
     "data": {
      "text/plain": [
       "array(['Acceso&%Login', 'Sistema', 'Software', 'Hardware'], dtype=object)"
      ]
     },
     "execution_count": 7,
     "metadata": {},
     "output_type": "execute_result"
    }
   ],
   "source": [
    "df['categoría'].unique()"
   ]
  },
  {
   "cell_type": "code",
   "execution_count": 8,
   "metadata": {},
   "outputs": [
    {
     "data": {
      "text/html": [
       "<div>\n",
       "<style scoped>\n",
       "    .dataframe tbody tr th:only-of-type {\n",
       "        vertical-align: middle;\n",
       "    }\n",
       "\n",
       "    .dataframe tbody tr th {\n",
       "        vertical-align: top;\n",
       "    }\n",
       "\n",
       "    .dataframe thead th {\n",
       "        text-align: right;\n",
       "    }\n",
       "</style>\n",
       "<table border=\"1\" class=\"dataframe\">\n",
       "  <thead>\n",
       "    <tr style=\"text-align: right;\">\n",
       "      <th></th>\n",
       "      <th>fecha</th>\n",
       "      <th>id_empleado</th>\n",
       "      <th>id_agente</th>\n",
       "      <th>categoría</th>\n",
       "      <th>tipo</th>\n",
       "      <th>severidad</th>\n",
       "      <th>prioridad</th>\n",
       "      <th>días_resolución</th>\n",
       "      <th>satisfacción</th>\n",
       "    </tr>\n",
       "    <tr>\n",
       "      <th>id_ticket</th>\n",
       "      <th></th>\n",
       "      <th></th>\n",
       "      <th></th>\n",
       "      <th></th>\n",
       "      <th></th>\n",
       "      <th></th>\n",
       "      <th></th>\n",
       "      <th></th>\n",
       "      <th></th>\n",
       "    </tr>\n",
       "  </thead>\n",
       "  <tbody>\n",
       "    <tr>\n",
       "      <th>GDDESR-1342539995</th>\n",
       "      <td>2016-06-18</td>\n",
       "      <td>569.0</td>\n",
       "      <td>29.0</td>\n",
       "      <td>Sistema</td>\n",
       "      <td>Problema</td>\n",
       "      <td>0 - Sin Clasificar</td>\n",
       "      <td>0 - Sin Asignar</td>\n",
       "      <td>3.0</td>\n",
       "      <td>5.0</td>\n",
       "    </tr>\n",
       "    <tr>\n",
       "      <th>GDDTSR-5942488006</th>\n",
       "      <td>2016-04-28</td>\n",
       "      <td>320.0</td>\n",
       "      <td>40.0</td>\n",
       "      <td>Sistema</td>\n",
       "      <td>Solicitud</td>\n",
       "      <td>0 - Sin Clasificar</td>\n",
       "      <td>0 - Sin Asignar</td>\n",
       "      <td>9.0</td>\n",
       "      <td>5.0</td>\n",
       "    </tr>\n",
       "    <tr>\n",
       "      <th>GDLESR-0142497241</th>\n",
       "      <td>2016-05-07</td>\n",
       "      <td>584.0</td>\n",
       "      <td>2.0</td>\n",
       "      <td>Sistema</td>\n",
       "      <td>Problema</td>\n",
       "      <td>2 - Normal</td>\n",
       "      <td>0 - Sin Asignar</td>\n",
       "      <td>1.0</td>\n",
       "      <td>5.0</td>\n",
       "    </tr>\n",
       "    <tr>\n",
       "      <th>GDLESR-0142558772</th>\n",
       "      <td>2016-07-07</td>\n",
       "      <td>1147.0</td>\n",
       "      <td>47.0</td>\n",
       "      <td>Sistema</td>\n",
       "      <td>Problema</td>\n",
       "      <td>2 - Normal</td>\n",
       "      <td>0 - Sin Asignar</td>\n",
       "      <td>1.0</td>\n",
       "      <td>5.0</td>\n",
       "    </tr>\n",
       "    <tr>\n",
       "      <th>GDLESR-0242517083</th>\n",
       "      <td>2016-05-27</td>\n",
       "      <td>578.0</td>\n",
       "      <td>10.0</td>\n",
       "      <td>Sistema</td>\n",
       "      <td>Problema</td>\n",
       "      <td>2 - Normal</td>\n",
       "      <td>0 - Sin Asignar</td>\n",
       "      <td>2.0</td>\n",
       "      <td>5.0</td>\n",
       "    </tr>\n",
       "  </tbody>\n",
       "</table>\n",
       "</div>"
      ],
      "text/plain": [
       "                       fecha  id_empleado  id_agente categoría       tipo  \\\n",
       "id_ticket                                                                   \n",
       "GDDESR-1342539995 2016-06-18        569.0       29.0   Sistema   Problema   \n",
       "GDDTSR-5942488006 2016-04-28        320.0       40.0   Sistema  Solicitud   \n",
       "GDLESR-0142497241 2016-05-07        584.0        2.0   Sistema   Problema   \n",
       "GDLESR-0142558772 2016-07-07       1147.0       47.0   Sistema   Problema   \n",
       "GDLESR-0242517083 2016-05-27        578.0       10.0   Sistema   Problema   \n",
       "\n",
       "                            severidad        prioridad  días_resolución  \\\n",
       "id_ticket                                                                 \n",
       "GDDESR-1342539995  0 - Sin Clasificar  0 - Sin Asignar              3.0   \n",
       "GDDTSR-5942488006  0 - Sin Clasificar  0 - Sin Asignar              9.0   \n",
       "GDLESR-0142497241          2 - Normal  0 - Sin Asignar              1.0   \n",
       "GDLESR-0142558772          2 - Normal  0 - Sin Asignar              1.0   \n",
       "GDLESR-0242517083          2 - Normal  0 - Sin Asignar              2.0   \n",
       "\n",
       "                   satisfacción  \n",
       "id_ticket                        \n",
       "GDDESR-1342539995           5.0  \n",
       "GDDTSR-5942488006           5.0  \n",
       "GDLESR-0142497241           5.0  \n",
       "GDLESR-0142558772           5.0  \n",
       "GDLESR-0242517083           5.0  "
      ]
     },
     "execution_count": 8,
     "metadata": {},
     "output_type": "execute_result"
    }
   ],
   "source": [
    "df_sistema = df[df['categoría'] == 'Sistema']\n",
    "df_sistema.head()"
   ]
  },
  {
   "cell_type": "code",
   "execution_count": 9,
   "metadata": {},
   "outputs": [
    {
     "name": "stdout",
     "output_type": "stream",
     "text": [
      "El número de incidencias de tipo sistema es: 5211\n"
     ]
    }
   ],
   "source": [
    "print(f'El número de incidencias de tipo sistema es: {df_sistema.shape[0]}')"
   ]
  },
  {
   "attachments": {},
   "cell_type": "markdown",
   "metadata": {},
   "source": [
    "3. ¿Y para la categorías de \"Hardware\" y \"Software\"? Cread un dataframe nuevo con los resultados de este filtrado de datos.  \n",
    "    📌 **Nota** Este ejercicio se puede resolver usando dos condiciones de filtrado o usando el método `isin()`. Hacedlo con ambas herramientas.   \n"
   ]
  },
  {
   "cell_type": "code",
   "execution_count": 10,
   "metadata": {},
   "outputs": [
    {
     "data": {
      "text/html": [
       "<div>\n",
       "<style scoped>\n",
       "    .dataframe tbody tr th:only-of-type {\n",
       "        vertical-align: middle;\n",
       "    }\n",
       "\n",
       "    .dataframe tbody tr th {\n",
       "        vertical-align: top;\n",
       "    }\n",
       "\n",
       "    .dataframe thead th {\n",
       "        text-align: right;\n",
       "    }\n",
       "</style>\n",
       "<table border=\"1\" class=\"dataframe\">\n",
       "  <thead>\n",
       "    <tr style=\"text-align: right;\">\n",
       "      <th></th>\n",
       "      <th>fecha</th>\n",
       "      <th>id_empleado</th>\n",
       "      <th>id_agente</th>\n",
       "      <th>categoría</th>\n",
       "      <th>tipo</th>\n",
       "      <th>severidad</th>\n",
       "      <th>prioridad</th>\n",
       "      <th>días_resolución</th>\n",
       "      <th>satisfacción</th>\n",
       "    </tr>\n",
       "    <tr>\n",
       "      <th>id_ticket</th>\n",
       "      <th></th>\n",
       "      <th></th>\n",
       "      <th></th>\n",
       "      <th></th>\n",
       "      <th></th>\n",
       "      <th></th>\n",
       "      <th></th>\n",
       "      <th></th>\n",
       "      <th></th>\n",
       "    </tr>\n",
       "  </thead>\n",
       "  <tbody>\n",
       "    <tr>\n",
       "      <th>GDLEER-0042524120</th>\n",
       "      <td>2016-06-03</td>\n",
       "      <td>1842.0</td>\n",
       "      <td>31.0</td>\n",
       "      <td>Software</td>\n",
       "      <td>Problema</td>\n",
       "      <td>2 - Normal</td>\n",
       "      <td>0 - Sin Asignar</td>\n",
       "      <td>0.0</td>\n",
       "      <td>5.0</td>\n",
       "    </tr>\n",
       "    <tr>\n",
       "      <th>GDLEER-0142608095</th>\n",
       "      <td>2016-08-26</td>\n",
       "      <td>59.0</td>\n",
       "      <td>20.0</td>\n",
       "      <td>Software</td>\n",
       "      <td>Problema</td>\n",
       "      <td>2 - Normal</td>\n",
       "      <td>0 - Sin Asignar</td>\n",
       "      <td>1.0</td>\n",
       "      <td>1.0</td>\n",
       "    </tr>\n",
       "    <tr>\n",
       "      <th>GDLEER-0242564650</th>\n",
       "      <td>2016-07-13</td>\n",
       "      <td>1175.0</td>\n",
       "      <td>36.0</td>\n",
       "      <td>Software</td>\n",
       "      <td>Problema</td>\n",
       "      <td>2 - Normal</td>\n",
       "      <td>0 - Sin Asignar</td>\n",
       "      <td>2.0</td>\n",
       "      <td>1.0</td>\n",
       "    </tr>\n",
       "    <tr>\n",
       "      <th>GDLEER-0542574815</th>\n",
       "      <td>2016-07-23</td>\n",
       "      <td>561.0</td>\n",
       "      <td>18.0</td>\n",
       "      <td>Software</td>\n",
       "      <td>Problema</td>\n",
       "      <td>2 - Normal</td>\n",
       "      <td>0 - Sin Asignar</td>\n",
       "      <td>5.0</td>\n",
       "      <td>5.0</td>\n",
       "    </tr>\n",
       "    <tr>\n",
       "      <th>GDLEER-0842457219</th>\n",
       "      <td>2016-03-28</td>\n",
       "      <td>71.0</td>\n",
       "      <td>12.0</td>\n",
       "      <td>Software</td>\n",
       "      <td>Problema</td>\n",
       "      <td>2 - Normal</td>\n",
       "      <td>0 - Sin Asignar</td>\n",
       "      <td>8.0</td>\n",
       "      <td>5.0</td>\n",
       "    </tr>\n",
       "  </tbody>\n",
       "</table>\n",
       "</div>"
      ],
      "text/plain": [
       "                       fecha  id_empleado  id_agente categoría      tipo  \\\n",
       "id_ticket                                                                  \n",
       "GDLEER-0042524120 2016-06-03       1842.0       31.0  Software  Problema   \n",
       "GDLEER-0142608095 2016-08-26         59.0       20.0  Software  Problema   \n",
       "GDLEER-0242564650 2016-07-13       1175.0       36.0  Software  Problema   \n",
       "GDLEER-0542574815 2016-07-23        561.0       18.0  Software  Problema   \n",
       "GDLEER-0842457219 2016-03-28         71.0       12.0  Software  Problema   \n",
       "\n",
       "                    severidad        prioridad  días_resolución  satisfacción  \n",
       "id_ticket                                                                      \n",
       "GDLEER-0042524120  2 - Normal  0 - Sin Asignar              0.0           5.0  \n",
       "GDLEER-0142608095  2 - Normal  0 - Sin Asignar              1.0           1.0  \n",
       "GDLEER-0242564650  2 - Normal  0 - Sin Asignar              2.0           1.0  \n",
       "GDLEER-0542574815  2 - Normal  0 - Sin Asignar              5.0           5.0  \n",
       "GDLEER-0842457219  2 - Normal  0 - Sin Asignar              8.0           5.0  "
      ]
     },
     "execution_count": 10,
     "metadata": {},
     "output_type": "execute_result"
    }
   ],
   "source": [
    "# con condiciones de filtrado\n",
    "df_hw_sw = df[(df['categoría'] == 'Hardware') | (df['categoría'] == 'Software')]\n",
    "df_hw_sw.head()"
   ]
  },
  {
   "cell_type": "code",
   "execution_count": 11,
   "metadata": {},
   "outputs": [
    {
     "data": {
      "text/plain": [
       "array(['Software', 'Hardware'], dtype=object)"
      ]
     },
     "execution_count": 11,
     "metadata": {},
     "output_type": "execute_result"
    }
   ],
   "source": [
    "df_hw_sw.categoría.unique()"
   ]
  },
  {
   "cell_type": "code",
   "execution_count": 12,
   "metadata": {},
   "outputs": [
    {
     "data": {
      "text/html": [
       "<div>\n",
       "<style scoped>\n",
       "    .dataframe tbody tr th:only-of-type {\n",
       "        vertical-align: middle;\n",
       "    }\n",
       "\n",
       "    .dataframe tbody tr th {\n",
       "        vertical-align: top;\n",
       "    }\n",
       "\n",
       "    .dataframe thead th {\n",
       "        text-align: right;\n",
       "    }\n",
       "</style>\n",
       "<table border=\"1\" class=\"dataframe\">\n",
       "  <thead>\n",
       "    <tr style=\"text-align: right;\">\n",
       "      <th></th>\n",
       "      <th>fecha</th>\n",
       "      <th>id_empleado</th>\n",
       "      <th>id_agente</th>\n",
       "      <th>categoría</th>\n",
       "      <th>tipo</th>\n",
       "      <th>severidad</th>\n",
       "      <th>prioridad</th>\n",
       "      <th>días_resolución</th>\n",
       "      <th>satisfacción</th>\n",
       "    </tr>\n",
       "    <tr>\n",
       "      <th>id_ticket</th>\n",
       "      <th></th>\n",
       "      <th></th>\n",
       "      <th></th>\n",
       "      <th></th>\n",
       "      <th></th>\n",
       "      <th></th>\n",
       "      <th></th>\n",
       "      <th></th>\n",
       "      <th></th>\n",
       "    </tr>\n",
       "  </thead>\n",
       "  <tbody>\n",
       "    <tr>\n",
       "      <th>GDLEER-0042524120</th>\n",
       "      <td>2016-06-03</td>\n",
       "      <td>1842.0</td>\n",
       "      <td>31.0</td>\n",
       "      <td>Software</td>\n",
       "      <td>Problema</td>\n",
       "      <td>2 - Normal</td>\n",
       "      <td>0 - Sin Asignar</td>\n",
       "      <td>0.0</td>\n",
       "      <td>5.0</td>\n",
       "    </tr>\n",
       "    <tr>\n",
       "      <th>GDLEER-0142608095</th>\n",
       "      <td>2016-08-26</td>\n",
       "      <td>59.0</td>\n",
       "      <td>20.0</td>\n",
       "      <td>Software</td>\n",
       "      <td>Problema</td>\n",
       "      <td>2 - Normal</td>\n",
       "      <td>0 - Sin Asignar</td>\n",
       "      <td>1.0</td>\n",
       "      <td>1.0</td>\n",
       "    </tr>\n",
       "    <tr>\n",
       "      <th>GDLEER-0242564650</th>\n",
       "      <td>2016-07-13</td>\n",
       "      <td>1175.0</td>\n",
       "      <td>36.0</td>\n",
       "      <td>Software</td>\n",
       "      <td>Problema</td>\n",
       "      <td>2 - Normal</td>\n",
       "      <td>0 - Sin Asignar</td>\n",
       "      <td>2.0</td>\n",
       "      <td>1.0</td>\n",
       "    </tr>\n",
       "    <tr>\n",
       "      <th>GDLEER-0542574815</th>\n",
       "      <td>2016-07-23</td>\n",
       "      <td>561.0</td>\n",
       "      <td>18.0</td>\n",
       "      <td>Software</td>\n",
       "      <td>Problema</td>\n",
       "      <td>2 - Normal</td>\n",
       "      <td>0 - Sin Asignar</td>\n",
       "      <td>5.0</td>\n",
       "      <td>5.0</td>\n",
       "    </tr>\n",
       "    <tr>\n",
       "      <th>GDLEER-0842457219</th>\n",
       "      <td>2016-03-28</td>\n",
       "      <td>71.0</td>\n",
       "      <td>12.0</td>\n",
       "      <td>Software</td>\n",
       "      <td>Problema</td>\n",
       "      <td>2 - Normal</td>\n",
       "      <td>0 - Sin Asignar</td>\n",
       "      <td>8.0</td>\n",
       "      <td>5.0</td>\n",
       "    </tr>\n",
       "  </tbody>\n",
       "</table>\n",
       "</div>"
      ],
      "text/plain": [
       "                       fecha  id_empleado  id_agente categoría      tipo  \\\n",
       "id_ticket                                                                  \n",
       "GDLEER-0042524120 2016-06-03       1842.0       31.0  Software  Problema   \n",
       "GDLEER-0142608095 2016-08-26         59.0       20.0  Software  Problema   \n",
       "GDLEER-0242564650 2016-07-13       1175.0       36.0  Software  Problema   \n",
       "GDLEER-0542574815 2016-07-23        561.0       18.0  Software  Problema   \n",
       "GDLEER-0842457219 2016-03-28         71.0       12.0  Software  Problema   \n",
       "\n",
       "                    severidad        prioridad  días_resolución  satisfacción  \n",
       "id_ticket                                                                      \n",
       "GDLEER-0042524120  2 - Normal  0 - Sin Asignar              0.0           5.0  \n",
       "GDLEER-0142608095  2 - Normal  0 - Sin Asignar              1.0           1.0  \n",
       "GDLEER-0242564650  2 - Normal  0 - Sin Asignar              2.0           1.0  \n",
       "GDLEER-0542574815  2 - Normal  0 - Sin Asignar              5.0           5.0  \n",
       "GDLEER-0842457219  2 - Normal  0 - Sin Asignar              8.0           5.0  "
      ]
     },
     "execution_count": 12,
     "metadata": {},
     "output_type": "execute_result"
    }
   ],
   "source": [
    "# con .isin()\n",
    "df_hw_sw2 = df[df['categoría'].isin(['Hardware','Software'])]\n",
    "df_hw_sw2.head()\n"
   ]
  },
  {
   "cell_type": "code",
   "execution_count": 13,
   "metadata": {},
   "outputs": [
    {
     "data": {
      "text/plain": [
       "array(['Software', 'Hardware'], dtype=object)"
      ]
     },
     "execution_count": 13,
     "metadata": {},
     "output_type": "execute_result"
    }
   ],
   "source": [
    "df_hw_sw2.categoría.unique()"
   ]
  },
  {
   "attachments": {},
   "cell_type": "markdown",
   "metadata": {},
   "source": [
    "3.1 De los datos filtrados en el punto 3. ¿Cuántas de ellas son de tipo \"Solicitud\" y cuántas de tipo \"Problema\"?  "
   ]
  },
  {
   "cell_type": "code",
   "execution_count": 14,
   "metadata": {},
   "outputs": [
    {
     "data": {
      "text/plain": [
       "Solicitud    2876\n",
       "Problema      971\n",
       "Name: tipo, dtype: int64"
      ]
     },
     "execution_count": 14,
     "metadata": {},
     "output_type": "execute_result"
    }
   ],
   "source": [
    "df_hw_sw['tipo'].value_counts()"
   ]
  },
  {
   "attachments": {},
   "cell_type": "markdown",
   "metadata": {},
   "source": [
    "3.2 ¿Cuántas solicitudes tienen una satisfacción de más de 3?  "
   ]
  },
  {
   "cell_type": "code",
   "execution_count": 15,
   "metadata": {},
   "outputs": [
    {
     "name": "stdout",
     "output_type": "stream",
     "text": [
      "El número de solicitudes con satisfacción superior a 3 es: 3009\n"
     ]
    }
   ],
   "source": [
    "df_satisf3 = df_hw_sw[df_hw_sw['satisfacción'] >3]\n",
    "print(f'El número de solicitudes con satisfacción superior a 3 es: {df_satisf3.shape[0]}')"
   ]
  },
  {
   "attachments": {},
   "cell_type": "markdown",
   "metadata": {},
   "source": [
    "3.3 ¿Y cuántas tienen una satisfacción mayor o igual que 4 y han tardado menos de 3 días de resolución?  "
   ]
  },
  {
   "cell_type": "code",
   "execution_count": 16,
   "metadata": {},
   "outputs": [
    {
     "name": "stdout",
     "output_type": "stream",
     "text": [
      "El número de solicitudes con ambas condiciones es: 575\n"
     ]
    }
   ],
   "source": [
    "condiciones = (df_hw_sw['satisfacción'] >= 4) & (df_hw_sw['días_resolución'] < 3)\n",
    "df_satisf4 = df_hw_sw[condiciones]\n",
    "print(f'El número de solicitudes con ambas condiciones es: {df_satisf4.shape[0]}')"
   ]
  },
  {
   "attachments": {},
   "cell_type": "markdown",
   "metadata": {},
   "source": [
    "4. Ahora nuestro jefe quiere saber que cantidad de tickets ha habido en la segunda quincena de Enero. Cread un DataFrame nuevo con los tickets correspondientes a la segunda quincena de Enero.  \n",
    "\n",
    "    4.1. ¿Ha habido algun ticket en esta quincena que corresponda a la categoría de Solicitud?   "
   ]
  },
  {
   "cell_type": "code",
   "execution_count": 17,
   "metadata": {},
   "outputs": [
    {
     "data": {
      "text/html": [
       "<div>\n",
       "<style scoped>\n",
       "    .dataframe tbody tr th:only-of-type {\n",
       "        vertical-align: middle;\n",
       "    }\n",
       "\n",
       "    .dataframe tbody tr th {\n",
       "        vertical-align: top;\n",
       "    }\n",
       "\n",
       "    .dataframe thead th {\n",
       "        text-align: right;\n",
       "    }\n",
       "</style>\n",
       "<table border=\"1\" class=\"dataframe\">\n",
       "  <thead>\n",
       "    <tr style=\"text-align: right;\">\n",
       "      <th></th>\n",
       "      <th>fecha</th>\n",
       "      <th>id_empleado</th>\n",
       "      <th>id_agente</th>\n",
       "      <th>categoría</th>\n",
       "      <th>tipo</th>\n",
       "      <th>severidad</th>\n",
       "      <th>prioridad</th>\n",
       "      <th>días_resolución</th>\n",
       "      <th>satisfacción</th>\n",
       "    </tr>\n",
       "    <tr>\n",
       "      <th>id_ticket</th>\n",
       "      <th></th>\n",
       "      <th></th>\n",
       "      <th></th>\n",
       "      <th></th>\n",
       "      <th></th>\n",
       "      <th></th>\n",
       "      <th></th>\n",
       "      <th></th>\n",
       "      <th></th>\n",
       "    </tr>\n",
       "  </thead>\n",
       "  <tbody>\n",
       "    <tr>\n",
       "      <th>GDLEER-2142385152</th>\n",
       "      <td>2016-01-16</td>\n",
       "      <td>1825.0</td>\n",
       "      <td>31.0</td>\n",
       "      <td>Software</td>\n",
       "      <td>Problema</td>\n",
       "      <td>2 - Normal</td>\n",
       "      <td>0 - Sin Asignar</td>\n",
       "      <td>1.0</td>\n",
       "      <td>5.0</td>\n",
       "    </tr>\n",
       "    <tr>\n",
       "      <th>GDLEET-8142386963</th>\n",
       "      <td>2016-01-17</td>\n",
       "      <td>376.0</td>\n",
       "      <td>39.0</td>\n",
       "      <td>Software</td>\n",
       "      <td>Problema</td>\n",
       "      <td>2 - Normal</td>\n",
       "      <td>0 - Sin Asignar</td>\n",
       "      <td>1.0</td>\n",
       "      <td>5.0</td>\n",
       "    </tr>\n",
       "    <tr>\n",
       "      <th>GDLEET-8942397489</th>\n",
       "      <td>2016-01-28</td>\n",
       "      <td>488.0</td>\n",
       "      <td>14.0</td>\n",
       "      <td>Hardware</td>\n",
       "      <td>Problema</td>\n",
       "      <td>2 - Normal</td>\n",
       "      <td>0 - Sin Asignar</td>\n",
       "      <td>9.0</td>\n",
       "      <td>5.0</td>\n",
       "    </tr>\n",
       "    <tr>\n",
       "      <th>GDLEET-9342397848</th>\n",
       "      <td>2016-01-28</td>\n",
       "      <td>104.0</td>\n",
       "      <td>48.0</td>\n",
       "      <td>Software</td>\n",
       "      <td>Problema</td>\n",
       "      <td>2 - Normal</td>\n",
       "      <td>0 - Sin Asignar</td>\n",
       "      <td>3.0</td>\n",
       "      <td>5.0</td>\n",
       "    </tr>\n",
       "    <tr>\n",
       "      <th>GDLENR-1042392759</th>\n",
       "      <td>2016-01-23</td>\n",
       "      <td>1755.0</td>\n",
       "      <td>17.0</td>\n",
       "      <td>Acceso&amp;%Login</td>\n",
       "      <td>Problema</td>\n",
       "      <td>2 - Normal</td>\n",
       "      <td>0 - Sin Asignar</td>\n",
       "      <td>0.0</td>\n",
       "      <td>5.0</td>\n",
       "    </tr>\n",
       "  </tbody>\n",
       "</table>\n",
       "</div>"
      ],
      "text/plain": [
       "                       fecha  id_empleado  id_agente      categoría      tipo  \\\n",
       "id_ticket                                                                       \n",
       "GDLEER-2142385152 2016-01-16       1825.0       31.0       Software  Problema   \n",
       "GDLEET-8142386963 2016-01-17        376.0       39.0       Software  Problema   \n",
       "GDLEET-8942397489 2016-01-28        488.0       14.0       Hardware  Problema   \n",
       "GDLEET-9342397848 2016-01-28        104.0       48.0       Software  Problema   \n",
       "GDLENR-1042392759 2016-01-23       1755.0       17.0  Acceso&%Login  Problema   \n",
       "\n",
       "                    severidad        prioridad  días_resolución  satisfacción  \n",
       "id_ticket                                                                      \n",
       "GDLEER-2142385152  2 - Normal  0 - Sin Asignar              1.0           5.0  \n",
       "GDLEET-8142386963  2 - Normal  0 - Sin Asignar              1.0           5.0  \n",
       "GDLEET-8942397489  2 - Normal  0 - Sin Asignar              9.0           5.0  \n",
       "GDLEET-9342397848  2 - Normal  0 - Sin Asignar              3.0           5.0  \n",
       "GDLENR-1042392759  2 - Normal  0 - Sin Asignar              0.0           5.0  "
      ]
     },
     "execution_count": 17,
     "metadata": {},
     "output_type": "execute_result"
    }
   ],
   "source": [
    "df_enero = df[(df['fecha'] > '2016-1-15') & (df['fecha'] <= '2016-1-31')]\n",
    "df_enero.head()"
   ]
  },
  {
   "cell_type": "code",
   "execution_count": 18,
   "metadata": {},
   "outputs": [
    {
     "name": "stdout",
     "output_type": "stream",
     "text": [
      "Las categorías que hay en la columna tipo son: ['Problema' 'Solicitud']\n",
      "Sí hay algún ticket de categoría Solicitud\n"
     ]
    }
   ],
   "source": [
    "print(f\"Las categorías que hay en la columna tipo son: {df_enero['tipo'].unique()}\")\n",
    "print('Sí hay algún ticket de categoría Solicitud')"
   ]
  },
  {
   "attachments": {},
   "cell_type": "markdown",
   "metadata": {},
   "source": [
    "    \n",
    "4.2. Revisando los datos, nuestro jefe se ha dado cuenta que hay muchos tickets no tienen ninguna prioridad asignada. Esto no debería seguir    repitiéndose ya que cada ticket debe tener una prioridad para saber que urgencia debemos darle a cada ticket. Usando el `str.contains` extraed los tickets que no tengan una prioridad asignada o que tengan una prioridad baja. "
   ]
  },
  {
   "cell_type": "code",
   "execution_count": 19,
   "metadata": {},
   "outputs": [
    {
     "data": {
      "text/plain": [
       "array(['0 - Sin Asignar', '3 - Alta', '2 - Media', '1 - Baja'],\n",
       "      dtype=object)"
      ]
     },
     "execution_count": 19,
     "metadata": {},
     "output_type": "execute_result"
    }
   ],
   "source": [
    "df_enero['prioridad'].unique()"
   ]
  },
  {
   "cell_type": "code",
   "execution_count": 31,
   "metadata": {},
   "outputs": [
    {
     "data": {
      "text/html": [
       "<div>\n",
       "<style scoped>\n",
       "    .dataframe tbody tr th:only-of-type {\n",
       "        vertical-align: middle;\n",
       "    }\n",
       "\n",
       "    .dataframe tbody tr th {\n",
       "        vertical-align: top;\n",
       "    }\n",
       "\n",
       "    .dataframe thead th {\n",
       "        text-align: right;\n",
       "    }\n",
       "</style>\n",
       "<table border=\"1\" class=\"dataframe\">\n",
       "  <thead>\n",
       "    <tr style=\"text-align: right;\">\n",
       "      <th></th>\n",
       "      <th>fecha</th>\n",
       "      <th>id_empleado</th>\n",
       "      <th>id_agente</th>\n",
       "      <th>categoría</th>\n",
       "      <th>tipo</th>\n",
       "      <th>severidad</th>\n",
       "      <th>prioridad</th>\n",
       "      <th>días_resolución</th>\n",
       "      <th>satisfacción</th>\n",
       "    </tr>\n",
       "    <tr>\n",
       "      <th>id_ticket</th>\n",
       "      <th></th>\n",
       "      <th></th>\n",
       "      <th></th>\n",
       "      <th></th>\n",
       "      <th></th>\n",
       "      <th></th>\n",
       "      <th></th>\n",
       "      <th></th>\n",
       "      <th></th>\n",
       "    </tr>\n",
       "  </thead>\n",
       "  <tbody>\n",
       "    <tr>\n",
       "      <th>GDLEER-2142385152</th>\n",
       "      <td>2016-01-16</td>\n",
       "      <td>1825.0</td>\n",
       "      <td>31.0</td>\n",
       "      <td>Software</td>\n",
       "      <td>Problema</td>\n",
       "      <td>2 - Normal</td>\n",
       "      <td>0 - Sin Asignar</td>\n",
       "      <td>1.0</td>\n",
       "      <td>5.0</td>\n",
       "    </tr>\n",
       "    <tr>\n",
       "      <th>GDLEET-8142386963</th>\n",
       "      <td>2016-01-17</td>\n",
       "      <td>376.0</td>\n",
       "      <td>39.0</td>\n",
       "      <td>Software</td>\n",
       "      <td>Problema</td>\n",
       "      <td>2 - Normal</td>\n",
       "      <td>0 - Sin Asignar</td>\n",
       "      <td>1.0</td>\n",
       "      <td>5.0</td>\n",
       "    </tr>\n",
       "    <tr>\n",
       "      <th>GDLEET-8942397489</th>\n",
       "      <td>2016-01-28</td>\n",
       "      <td>488.0</td>\n",
       "      <td>14.0</td>\n",
       "      <td>Hardware</td>\n",
       "      <td>Problema</td>\n",
       "      <td>2 - Normal</td>\n",
       "      <td>0 - Sin Asignar</td>\n",
       "      <td>9.0</td>\n",
       "      <td>5.0</td>\n",
       "    </tr>\n",
       "    <tr>\n",
       "      <th>GDLEET-9342397848</th>\n",
       "      <td>2016-01-28</td>\n",
       "      <td>104.0</td>\n",
       "      <td>48.0</td>\n",
       "      <td>Software</td>\n",
       "      <td>Problema</td>\n",
       "      <td>2 - Normal</td>\n",
       "      <td>0 - Sin Asignar</td>\n",
       "      <td>3.0</td>\n",
       "      <td>5.0</td>\n",
       "    </tr>\n",
       "    <tr>\n",
       "      <th>GDLENR-1042392759</th>\n",
       "      <td>2016-01-23</td>\n",
       "      <td>1755.0</td>\n",
       "      <td>17.0</td>\n",
       "      <td>Acceso&amp;%Login</td>\n",
       "      <td>Problema</td>\n",
       "      <td>2 - Normal</td>\n",
       "      <td>0 - Sin Asignar</td>\n",
       "      <td>0.0</td>\n",
       "      <td>5.0</td>\n",
       "    </tr>\n",
       "  </tbody>\n",
       "</table>\n",
       "</div>"
      ],
      "text/plain": [
       "                       fecha  id_empleado  id_agente      categoría      tipo  \\\n",
       "id_ticket                                                                       \n",
       "GDLEER-2142385152 2016-01-16       1825.0       31.0       Software  Problema   \n",
       "GDLEET-8142386963 2016-01-17        376.0       39.0       Software  Problema   \n",
       "GDLEET-8942397489 2016-01-28        488.0       14.0       Hardware  Problema   \n",
       "GDLEET-9342397848 2016-01-28        104.0       48.0       Software  Problema   \n",
       "GDLENR-1042392759 2016-01-23       1755.0       17.0  Acceso&%Login  Problema   \n",
       "\n",
       "                    severidad        prioridad  días_resolución  satisfacción  \n",
       "id_ticket                                                                      \n",
       "GDLEER-2142385152  2 - Normal  0 - Sin Asignar              1.0           5.0  \n",
       "GDLEET-8142386963  2 - Normal  0 - Sin Asignar              1.0           5.0  \n",
       "GDLEET-8942397489  2 - Normal  0 - Sin Asignar              9.0           5.0  \n",
       "GDLEET-9342397848  2 - Normal  0 - Sin Asignar              3.0           5.0  \n",
       "GDLENR-1042392759  2 - Normal  0 - Sin Asignar              0.0           5.0  "
      ]
     },
     "execution_count": 31,
     "metadata": {},
     "output_type": "execute_result"
    }
   ],
   "source": [
    "patron = '[0-1].*'\n",
    "df2 = df_enero[df_enero['prioridad'].str.contains(patron, regex=True)]\n",
    "df2.head()"
   ]
  },
  {
   "cell_type": "code",
   "execution_count": 21,
   "metadata": {},
   "outputs": [
    {
     "data": {
      "text/plain": [
       "array(['0 - Sin Asignar', '1 - Baja'], dtype=object)"
      ]
     },
     "execution_count": 21,
     "metadata": {},
     "output_type": "execute_result"
    }
   ],
   "source": [
    "df2['prioridad'].unique()"
   ]
  },
  {
   "attachments": {},
   "cell_type": "markdown",
   "metadata": {},
   "source": [
    "5. Nuestro jefe quiere seguir buscando patrones y quiere saber si existe una relación entre el número de días que tarde en cerrarse un ticket y la satisfacción de los clientes. Para eso nos pide que:  \n",
    "\n",
    "    5.1 Extraigamos los tickets en lo que pasaron 5 o más días en ser solucionados.  "
   ]
  },
  {
   "cell_type": "code",
   "execution_count": 24,
   "metadata": {},
   "outputs": [
    {
     "data": {
      "text/html": [
       "<div>\n",
       "<style scoped>\n",
       "    .dataframe tbody tr th:only-of-type {\n",
       "        vertical-align: middle;\n",
       "    }\n",
       "\n",
       "    .dataframe tbody tr th {\n",
       "        vertical-align: top;\n",
       "    }\n",
       "\n",
       "    .dataframe thead th {\n",
       "        text-align: right;\n",
       "    }\n",
       "</style>\n",
       "<table border=\"1\" class=\"dataframe\">\n",
       "  <thead>\n",
       "    <tr style=\"text-align: right;\">\n",
       "      <th></th>\n",
       "      <th>fecha</th>\n",
       "      <th>id_empleado</th>\n",
       "      <th>id_agente</th>\n",
       "      <th>categoría</th>\n",
       "      <th>tipo</th>\n",
       "      <th>severidad</th>\n",
       "      <th>prioridad</th>\n",
       "      <th>días_resolución</th>\n",
       "      <th>satisfacción</th>\n",
       "    </tr>\n",
       "    <tr>\n",
       "      <th>id_ticket</th>\n",
       "      <th></th>\n",
       "      <th></th>\n",
       "      <th></th>\n",
       "      <th></th>\n",
       "      <th></th>\n",
       "      <th></th>\n",
       "      <th></th>\n",
       "      <th></th>\n",
       "      <th></th>\n",
       "    </tr>\n",
       "  </thead>\n",
       "  <tbody>\n",
       "    <tr>\n",
       "      <th>GDDTSR-5942488006</th>\n",
       "      <td>2016-04-28</td>\n",
       "      <td>320.0</td>\n",
       "      <td>40.0</td>\n",
       "      <td>Sistema</td>\n",
       "      <td>Solicitud</td>\n",
       "      <td>0 - Sin Clasificar</td>\n",
       "      <td>0 - Sin Asignar</td>\n",
       "      <td>9.0</td>\n",
       "      <td>5.0</td>\n",
       "    </tr>\n",
       "    <tr>\n",
       "      <th>GDLEER-0542574815</th>\n",
       "      <td>2016-07-23</td>\n",
       "      <td>561.0</td>\n",
       "      <td>18.0</td>\n",
       "      <td>Software</td>\n",
       "      <td>Problema</td>\n",
       "      <td>2 - Normal</td>\n",
       "      <td>0 - Sin Asignar</td>\n",
       "      <td>5.0</td>\n",
       "      <td>5.0</td>\n",
       "    </tr>\n",
       "    <tr>\n",
       "      <th>GDLEER-0842457219</th>\n",
       "      <td>2016-03-28</td>\n",
       "      <td>71.0</td>\n",
       "      <td>12.0</td>\n",
       "      <td>Software</td>\n",
       "      <td>Problema</td>\n",
       "      <td>2 - Normal</td>\n",
       "      <td>0 - Sin Asignar</td>\n",
       "      <td>8.0</td>\n",
       "      <td>5.0</td>\n",
       "    </tr>\n",
       "    <tr>\n",
       "      <th>GDLEER-2342731423</th>\n",
       "      <td>2016-12-27</td>\n",
       "      <td>422.0</td>\n",
       "      <td>24.0</td>\n",
       "      <td>Hardware</td>\n",
       "      <td>Problema</td>\n",
       "      <td>2 - Normal</td>\n",
       "      <td>0 - Sin Asignar</td>\n",
       "      <td>10.0</td>\n",
       "      <td>5.0</td>\n",
       "    </tr>\n",
       "    <tr>\n",
       "      <th>GDLEER-3042628638</th>\n",
       "      <td>2016-09-15</td>\n",
       "      <td>1863.0</td>\n",
       "      <td>46.0</td>\n",
       "      <td>Hardware</td>\n",
       "      <td>Problema</td>\n",
       "      <td>2 - Normal</td>\n",
       "      <td>0 - Sin Asignar</td>\n",
       "      <td>9.0</td>\n",
       "      <td>5.0</td>\n",
       "    </tr>\n",
       "  </tbody>\n",
       "</table>\n",
       "</div>"
      ],
      "text/plain": [
       "                       fecha  id_empleado  id_agente categoría       tipo  \\\n",
       "id_ticket                                                                   \n",
       "GDDTSR-5942488006 2016-04-28        320.0       40.0   Sistema  Solicitud   \n",
       "GDLEER-0542574815 2016-07-23        561.0       18.0  Software   Problema   \n",
       "GDLEER-0842457219 2016-03-28         71.0       12.0  Software   Problema   \n",
       "GDLEER-2342731423 2016-12-27        422.0       24.0  Hardware   Problema   \n",
       "GDLEER-3042628638 2016-09-15       1863.0       46.0  Hardware   Problema   \n",
       "\n",
       "                            severidad        prioridad  días_resolución  \\\n",
       "id_ticket                                                                 \n",
       "GDDTSR-5942488006  0 - Sin Clasificar  0 - Sin Asignar              9.0   \n",
       "GDLEER-0542574815          2 - Normal  0 - Sin Asignar              5.0   \n",
       "GDLEER-0842457219          2 - Normal  0 - Sin Asignar              8.0   \n",
       "GDLEER-2342731423          2 - Normal  0 - Sin Asignar             10.0   \n",
       "GDLEER-3042628638          2 - Normal  0 - Sin Asignar              9.0   \n",
       "\n",
       "                   satisfacción  \n",
       "id_ticket                        \n",
       "GDDTSR-5942488006           5.0  \n",
       "GDLEER-0542574815           5.0  \n",
       "GDLEER-0842457219           5.0  \n",
       "GDLEER-2342731423           5.0  \n",
       "GDLEER-3042628638           5.0  "
      ]
     },
     "execution_count": 24,
     "metadata": {},
     "output_type": "execute_result"
    }
   ],
   "source": [
    "df_dias_mas = df[df['días_resolución'] >= 5]\n",
    "df_dias_mas.head()"
   ]
  },
  {
   "attachments": {},
   "cell_type": "markdown",
   "metadata": {},
   "source": [
    "5.2 Extraigamos los tickets en los que pasaron menos de 5 días en ser solucionados.  "
   ]
  },
  {
   "cell_type": "code",
   "execution_count": 25,
   "metadata": {},
   "outputs": [
    {
     "data": {
      "text/html": [
       "<div>\n",
       "<style scoped>\n",
       "    .dataframe tbody tr th:only-of-type {\n",
       "        vertical-align: middle;\n",
       "    }\n",
       "\n",
       "    .dataframe tbody tr th {\n",
       "        vertical-align: top;\n",
       "    }\n",
       "\n",
       "    .dataframe thead th {\n",
       "        text-align: right;\n",
       "    }\n",
       "</style>\n",
       "<table border=\"1\" class=\"dataframe\">\n",
       "  <thead>\n",
       "    <tr style=\"text-align: right;\">\n",
       "      <th></th>\n",
       "      <th>fecha</th>\n",
       "      <th>id_empleado</th>\n",
       "      <th>id_agente</th>\n",
       "      <th>categoría</th>\n",
       "      <th>tipo</th>\n",
       "      <th>severidad</th>\n",
       "      <th>prioridad</th>\n",
       "      <th>días_resolución</th>\n",
       "      <th>satisfacción</th>\n",
       "    </tr>\n",
       "    <tr>\n",
       "      <th>id_ticket</th>\n",
       "      <th></th>\n",
       "      <th></th>\n",
       "      <th></th>\n",
       "      <th></th>\n",
       "      <th></th>\n",
       "      <th></th>\n",
       "      <th></th>\n",
       "      <th></th>\n",
       "      <th></th>\n",
       "    </tr>\n",
       "  </thead>\n",
       "  <tbody>\n",
       "    <tr>\n",
       "      <th>GDDENR-5042564453</th>\n",
       "      <td>2016-07-13</td>\n",
       "      <td>1735.0</td>\n",
       "      <td>4.0</td>\n",
       "      <td>Acceso&amp;%Login</td>\n",
       "      <td>Problema</td>\n",
       "      <td>0 - Sin Clasificar</td>\n",
       "      <td>0 - Sin Asignar</td>\n",
       "      <td>0.0</td>\n",
       "      <td>5.0</td>\n",
       "    </tr>\n",
       "    <tr>\n",
       "      <th>GDDENR-8042508060</th>\n",
       "      <td>2016-05-18</td>\n",
       "      <td>1566.0</td>\n",
       "      <td>10.0</td>\n",
       "      <td>Acceso&amp;%Login</td>\n",
       "      <td>Problema</td>\n",
       "      <td>0 - Sin Clasificar</td>\n",
       "      <td>0 - Sin Asignar</td>\n",
       "      <td>0.0</td>\n",
       "      <td>5.0</td>\n",
       "    </tr>\n",
       "    <tr>\n",
       "      <th>GDDESR-1342539995</th>\n",
       "      <td>2016-06-18</td>\n",
       "      <td>569.0</td>\n",
       "      <td>29.0</td>\n",
       "      <td>Sistema</td>\n",
       "      <td>Problema</td>\n",
       "      <td>0 - Sin Clasificar</td>\n",
       "      <td>0 - Sin Asignar</td>\n",
       "      <td>3.0</td>\n",
       "      <td>5.0</td>\n",
       "    </tr>\n",
       "    <tr>\n",
       "      <th>GDLEER-0042524120</th>\n",
       "      <td>2016-06-03</td>\n",
       "      <td>1842.0</td>\n",
       "      <td>31.0</td>\n",
       "      <td>Software</td>\n",
       "      <td>Problema</td>\n",
       "      <td>2 - Normal</td>\n",
       "      <td>0 - Sin Asignar</td>\n",
       "      <td>0.0</td>\n",
       "      <td>5.0</td>\n",
       "    </tr>\n",
       "    <tr>\n",
       "      <th>GDLEER-0142608095</th>\n",
       "      <td>2016-08-26</td>\n",
       "      <td>59.0</td>\n",
       "      <td>20.0</td>\n",
       "      <td>Software</td>\n",
       "      <td>Problema</td>\n",
       "      <td>2 - Normal</td>\n",
       "      <td>0 - Sin Asignar</td>\n",
       "      <td>1.0</td>\n",
       "      <td>1.0</td>\n",
       "    </tr>\n",
       "  </tbody>\n",
       "</table>\n",
       "</div>"
      ],
      "text/plain": [
       "                       fecha  id_empleado  id_agente      categoría      tipo  \\\n",
       "id_ticket                                                                       \n",
       "GDDENR-5042564453 2016-07-13       1735.0        4.0  Acceso&%Login  Problema   \n",
       "GDDENR-8042508060 2016-05-18       1566.0       10.0  Acceso&%Login  Problema   \n",
       "GDDESR-1342539995 2016-06-18        569.0       29.0        Sistema  Problema   \n",
       "GDLEER-0042524120 2016-06-03       1842.0       31.0       Software  Problema   \n",
       "GDLEER-0142608095 2016-08-26         59.0       20.0       Software  Problema   \n",
       "\n",
       "                            severidad        prioridad  días_resolución  \\\n",
       "id_ticket                                                                 \n",
       "GDDENR-5042564453  0 - Sin Clasificar  0 - Sin Asignar              0.0   \n",
       "GDDENR-8042508060  0 - Sin Clasificar  0 - Sin Asignar              0.0   \n",
       "GDDESR-1342539995  0 - Sin Clasificar  0 - Sin Asignar              3.0   \n",
       "GDLEER-0042524120          2 - Normal  0 - Sin Asignar              0.0   \n",
       "GDLEER-0142608095          2 - Normal  0 - Sin Asignar              1.0   \n",
       "\n",
       "                   satisfacción  \n",
       "id_ticket                        \n",
       "GDDENR-5042564453           5.0  \n",
       "GDDENR-8042508060           5.0  \n",
       "GDDESR-1342539995           5.0  \n",
       "GDLEER-0042524120           5.0  \n",
       "GDLEER-0142608095           1.0  "
      ]
     },
     "execution_count": 25,
     "metadata": {},
     "output_type": "execute_result"
    }
   ],
   "source": [
    "df_dias_menos = df[df['días_resolución'] < 5]\n",
    "df_dias_menos.head()"
   ]
  },
  {
   "attachments": {},
   "cell_type": "markdown",
   "metadata": {},
   "source": [
    "5.3 Usando como referencia los dos conjuntos de datos creados en los dos pasos anteriores:  \n",
    "    - ¿Qué valores tenemos de satisfacción en cada uno de ellos?  \n",
    "    - ¿En cuál de ellos hay más puntuaciones de 5 en relación a la satisfacción?"
   ]
  },
  {
   "cell_type": "code",
   "execution_count": 26,
   "metadata": {},
   "outputs": [
    {
     "data": {
      "text/plain": [
       "array([5., 1., 4., 3., 2.])"
      ]
     },
     "execution_count": 26,
     "metadata": {},
     "output_type": "execute_result"
    }
   ],
   "source": [
    "df_dias_mas['satisfacción'].unique()"
   ]
  },
  {
   "cell_type": "code",
   "execution_count": 27,
   "metadata": {},
   "outputs": [
    {
     "data": {
      "text/plain": [
       "array([5., 1., 4., 3., 2.])"
      ]
     },
     "execution_count": 27,
     "metadata": {},
     "output_type": "execute_result"
    }
   ],
   "source": [
    "df_dias_menos['satisfacción'].unique()"
   ]
  },
  {
   "cell_type": "code",
   "execution_count": 28,
   "metadata": {},
   "outputs": [
    {
     "data": {
      "text/plain": [
       "5.0    2883\n",
       "4.0    1806\n",
       "1.0     719\n",
       "3.0     534\n",
       "2.0     109\n",
       "Name: satisfacción, dtype: int64"
      ]
     },
     "execution_count": 28,
     "metadata": {},
     "output_type": "execute_result"
    }
   ],
   "source": [
    "df_dias_mas['satisfacción'].value_counts()"
   ]
  },
  {
   "cell_type": "code",
   "execution_count": 29,
   "metadata": {},
   "outputs": [
    {
     "data": {
      "text/plain": [
       "5.0    3320\n",
       "4.0    1937\n",
       "1.0     869\n",
       "3.0     596\n",
       "2.0     167\n",
       "Name: satisfacción, dtype: int64"
      ]
     },
     "execution_count": 29,
     "metadata": {},
     "output_type": "execute_result"
    }
   ],
   "source": [
    "df_dias_menos['satisfacción'].value_counts() # Hay más puntuaciones de 5 en el caso de resolución en menos de 5 días"
   ]
  },
  {
   "attachments": {},
   "cell_type": "markdown",
   "metadata": {},
   "source": [
    "6. Revisando los dataframes generados en el ejercicio anterior, nos hemos dado cuenta que hay una serie de empleados que tardan demasiado en resolver los problemas planteados por los clientes. Nuestro jefe quiere extraer los datos de estos empleados en concreto para saber que esta pasando. En concreto estos empleados son aquellos que tienen los siguientes id's: 1118.0, 730.0, 97.0, 1745.0. Crea un dataframe donde solo tengamos la información de estos empleados. Usad el método `isin()`, para resolver este ejercicio.  "
   ]
  },
  {
   "cell_type": "code",
   "execution_count": 30,
   "metadata": {},
   "outputs": [
    {
     "data": {
      "text/html": [
       "<div>\n",
       "<style scoped>\n",
       "    .dataframe tbody tr th:only-of-type {\n",
       "        vertical-align: middle;\n",
       "    }\n",
       "\n",
       "    .dataframe tbody tr th {\n",
       "        vertical-align: top;\n",
       "    }\n",
       "\n",
       "    .dataframe thead th {\n",
       "        text-align: right;\n",
       "    }\n",
       "</style>\n",
       "<table border=\"1\" class=\"dataframe\">\n",
       "  <thead>\n",
       "    <tr style=\"text-align: right;\">\n",
       "      <th></th>\n",
       "      <th>fecha</th>\n",
       "      <th>id_empleado</th>\n",
       "      <th>id_agente</th>\n",
       "      <th>categoría</th>\n",
       "      <th>tipo</th>\n",
       "      <th>severidad</th>\n",
       "      <th>prioridad</th>\n",
       "      <th>días_resolución</th>\n",
       "      <th>satisfacción</th>\n",
       "    </tr>\n",
       "    <tr>\n",
       "      <th>id_ticket</th>\n",
       "      <th></th>\n",
       "      <th></th>\n",
       "      <th></th>\n",
       "      <th></th>\n",
       "      <th></th>\n",
       "      <th></th>\n",
       "      <th></th>\n",
       "      <th></th>\n",
       "      <th></th>\n",
       "    </tr>\n",
       "  </thead>\n",
       "  <tbody>\n",
       "    <tr>\n",
       "      <th>GDLTER-1042574687</th>\n",
       "      <td>2016-07-23</td>\n",
       "      <td>1118.0</td>\n",
       "      <td>26.0</td>\n",
       "      <td>Software</td>\n",
       "      <td>Solicitud</td>\n",
       "      <td>2 - Normal</td>\n",
       "      <td>0 - Sin Asignar</td>\n",
       "      <td>10.0</td>\n",
       "      <td>5.0</td>\n",
       "    </tr>\n",
       "    <tr>\n",
       "      <th>GDLTER-8542577885</th>\n",
       "      <td>2016-07-26</td>\n",
       "      <td>1118.0</td>\n",
       "      <td>8.0</td>\n",
       "      <td>Hardware</td>\n",
       "      <td>Solicitud</td>\n",
       "      <td>2 - Normal</td>\n",
       "      <td>0 - Sin Asignar</td>\n",
       "      <td>15.0</td>\n",
       "      <td>5.0</td>\n",
       "    </tr>\n",
       "    <tr>\n",
       "      <th>GDLTSR-0342448482</th>\n",
       "      <td>2016-03-19</td>\n",
       "      <td>1118.0</td>\n",
       "      <td>24.0</td>\n",
       "      <td>Sistema</td>\n",
       "      <td>Solicitud</td>\n",
       "      <td>2 - Normal</td>\n",
       "      <td>0 - Sin Asignar</td>\n",
       "      <td>13.0</td>\n",
       "      <td>5.0</td>\n",
       "    </tr>\n",
       "    <tr>\n",
       "      <th>GDLTSR-8042389076</th>\n",
       "      <td>2016-01-20</td>\n",
       "      <td>97.0</td>\n",
       "      <td>30.0</td>\n",
       "      <td>Sistema</td>\n",
       "      <td>Solicitud</td>\n",
       "      <td>2 - Normal</td>\n",
       "      <td>0 - Sin Asignar</td>\n",
       "      <td>10.0</td>\n",
       "      <td>5.0</td>\n",
       "    </tr>\n",
       "    <tr>\n",
       "      <th>GHLTNR-4042383675</th>\n",
       "      <td>2016-01-14</td>\n",
       "      <td>97.0</td>\n",
       "      <td>16.0</td>\n",
       "      <td>Acceso&amp;%Login</td>\n",
       "      <td>Solicitud</td>\n",
       "      <td>2 - Normal</td>\n",
       "      <td>3 - Alta</td>\n",
       "      <td>0.0</td>\n",
       "      <td>5.0</td>\n",
       "    </tr>\n",
       "  </tbody>\n",
       "</table>\n",
       "</div>"
      ],
      "text/plain": [
       "                       fecha  id_empleado  id_agente      categoría  \\\n",
       "id_ticket                                                             \n",
       "GDLTER-1042574687 2016-07-23       1118.0       26.0       Software   \n",
       "GDLTER-8542577885 2016-07-26       1118.0        8.0       Hardware   \n",
       "GDLTSR-0342448482 2016-03-19       1118.0       24.0        Sistema   \n",
       "GDLTSR-8042389076 2016-01-20         97.0       30.0        Sistema   \n",
       "GHLTNR-4042383675 2016-01-14         97.0       16.0  Acceso&%Login   \n",
       "\n",
       "                        tipo   severidad        prioridad  días_resolución  \\\n",
       "id_ticket                                                                    \n",
       "GDLTER-1042574687  Solicitud  2 - Normal  0 - Sin Asignar             10.0   \n",
       "GDLTER-8542577885  Solicitud  2 - Normal  0 - Sin Asignar             15.0   \n",
       "GDLTSR-0342448482  Solicitud  2 - Normal  0 - Sin Asignar             13.0   \n",
       "GDLTSR-8042389076  Solicitud  2 - Normal  0 - Sin Asignar             10.0   \n",
       "GHLTNR-4042383675  Solicitud  2 - Normal         3 - Alta              0.0   \n",
       "\n",
       "                   satisfacción  \n",
       "id_ticket                        \n",
       "GDLTER-1042574687           5.0  \n",
       "GDLTER-8542577885           5.0  \n",
       "GDLTSR-0342448482           5.0  \n",
       "GDLTSR-8042389076           5.0  \n",
       "GHLTNR-4042383675           5.0  "
      ]
     },
     "execution_count": 30,
     "metadata": {},
     "output_type": "execute_result"
    }
   ],
   "source": [
    "df_empleados = df[df['id_empleado'].isin([1118.0, 730.0, 97.0, 1745.0])]\n",
    "df_empleados.head()"
   ]
  },
  {
   "attachments": {},
   "cell_type": "markdown",
   "metadata": {},
   "source": [
    "7. Utilizando la columna de `fecha` cread una nueva columna llamada `semestre` que contenga `1er semestre` o `2º semestre`. Aquellos tickets que pertenezcan a los seis primeros meses tendran el valor de \"1er trismestre\" y los tickets de julio en adelante tendrán el valor de \"2º semestre\"."
   ]
  },
  {
   "cell_type": "code",
   "execution_count": 51,
   "metadata": {},
   "outputs": [
    {
     "data": {
      "text/html": [
       "<div>\n",
       "<style scoped>\n",
       "    .dataframe tbody tr th:only-of-type {\n",
       "        vertical-align: middle;\n",
       "    }\n",
       "\n",
       "    .dataframe tbody tr th {\n",
       "        vertical-align: top;\n",
       "    }\n",
       "\n",
       "    .dataframe thead th {\n",
       "        text-align: right;\n",
       "    }\n",
       "</style>\n",
       "<table border=\"1\" class=\"dataframe\">\n",
       "  <thead>\n",
       "    <tr style=\"text-align: right;\">\n",
       "      <th></th>\n",
       "      <th>fecha</th>\n",
       "      <th>id_empleado</th>\n",
       "      <th>id_agente</th>\n",
       "      <th>categoría</th>\n",
       "      <th>tipo</th>\n",
       "      <th>severidad</th>\n",
       "      <th>prioridad</th>\n",
       "      <th>días_resolución</th>\n",
       "      <th>satisfacción</th>\n",
       "      <th>semestre</th>\n",
       "    </tr>\n",
       "    <tr>\n",
       "      <th>id_ticket</th>\n",
       "      <th></th>\n",
       "      <th></th>\n",
       "      <th></th>\n",
       "      <th></th>\n",
       "      <th></th>\n",
       "      <th></th>\n",
       "      <th></th>\n",
       "      <th></th>\n",
       "      <th></th>\n",
       "      <th></th>\n",
       "    </tr>\n",
       "  </thead>\n",
       "  <tbody>\n",
       "    <tr>\n",
       "      <th>GDDENR-5042564453</th>\n",
       "      <td>2016-07-13</td>\n",
       "      <td>1735.0</td>\n",
       "      <td>4.0</td>\n",
       "      <td>Acceso&amp;%Login</td>\n",
       "      <td>Problema</td>\n",
       "      <td>0 - Sin Clasificar</td>\n",
       "      <td>0 - Sin Asignar</td>\n",
       "      <td>0.0</td>\n",
       "      <td>5.0</td>\n",
       "      <td>2º semestre</td>\n",
       "    </tr>\n",
       "    <tr>\n",
       "      <th>GDDENR-8042508060</th>\n",
       "      <td>2016-05-18</td>\n",
       "      <td>1566.0</td>\n",
       "      <td>10.0</td>\n",
       "      <td>Acceso&amp;%Login</td>\n",
       "      <td>Problema</td>\n",
       "      <td>0 - Sin Clasificar</td>\n",
       "      <td>0 - Sin Asignar</td>\n",
       "      <td>0.0</td>\n",
       "      <td>5.0</td>\n",
       "      <td>1er semestre</td>\n",
       "    </tr>\n",
       "    <tr>\n",
       "      <th>GDDESR-1342539995</th>\n",
       "      <td>2016-06-18</td>\n",
       "      <td>569.0</td>\n",
       "      <td>29.0</td>\n",
       "      <td>Sistema</td>\n",
       "      <td>Problema</td>\n",
       "      <td>0 - Sin Clasificar</td>\n",
       "      <td>0 - Sin Asignar</td>\n",
       "      <td>3.0</td>\n",
       "      <td>5.0</td>\n",
       "      <td>1er semestre</td>\n",
       "    </tr>\n",
       "    <tr>\n",
       "      <th>GDDTSR-5942488006</th>\n",
       "      <td>2016-04-28</td>\n",
       "      <td>320.0</td>\n",
       "      <td>40.0</td>\n",
       "      <td>Sistema</td>\n",
       "      <td>Solicitud</td>\n",
       "      <td>0 - Sin Clasificar</td>\n",
       "      <td>0 - Sin Asignar</td>\n",
       "      <td>9.0</td>\n",
       "      <td>5.0</td>\n",
       "      <td>1er semestre</td>\n",
       "    </tr>\n",
       "    <tr>\n",
       "      <th>GDLEER-0042524120</th>\n",
       "      <td>2016-06-03</td>\n",
       "      <td>1842.0</td>\n",
       "      <td>31.0</td>\n",
       "      <td>Software</td>\n",
       "      <td>Problema</td>\n",
       "      <td>2 - Normal</td>\n",
       "      <td>0 - Sin Asignar</td>\n",
       "      <td>0.0</td>\n",
       "      <td>5.0</td>\n",
       "      <td>1er semestre</td>\n",
       "    </tr>\n",
       "  </tbody>\n",
       "</table>\n",
       "</div>"
      ],
      "text/plain": [
       "                       fecha  id_empleado  id_agente      categoría  \\\n",
       "id_ticket                                                             \n",
       "GDDENR-5042564453 2016-07-13       1735.0        4.0  Acceso&%Login   \n",
       "GDDENR-8042508060 2016-05-18       1566.0       10.0  Acceso&%Login   \n",
       "GDDESR-1342539995 2016-06-18        569.0       29.0        Sistema   \n",
       "GDDTSR-5942488006 2016-04-28        320.0       40.0        Sistema   \n",
       "GDLEER-0042524120 2016-06-03       1842.0       31.0       Software   \n",
       "\n",
       "                        tipo           severidad        prioridad  \\\n",
       "id_ticket                                                           \n",
       "GDDENR-5042564453   Problema  0 - Sin Clasificar  0 - Sin Asignar   \n",
       "GDDENR-8042508060   Problema  0 - Sin Clasificar  0 - Sin Asignar   \n",
       "GDDESR-1342539995   Problema  0 - Sin Clasificar  0 - Sin Asignar   \n",
       "GDDTSR-5942488006  Solicitud  0 - Sin Clasificar  0 - Sin Asignar   \n",
       "GDLEER-0042524120   Problema          2 - Normal  0 - Sin Asignar   \n",
       "\n",
       "                   días_resolución  satisfacción      semestre  \n",
       "id_ticket                                                       \n",
       "GDDENR-5042564453              0.0           5.0   2º semestre  \n",
       "GDDENR-8042508060              0.0           5.0  1er semestre  \n",
       "GDDESR-1342539995              3.0           5.0  1er semestre  \n",
       "GDDTSR-5942488006              9.0           5.0  1er semestre  \n",
       "GDLEER-0042524120              0.0           5.0  1er semestre  "
      ]
     },
     "execution_count": 51,
     "metadata": {},
     "output_type": "execute_result"
    }
   ],
   "source": [
    "df['semestre'] = np.where(df['fecha'] <= '2016-6-30', '1er semestre', '2º semestre')\n",
    "df.head()"
   ]
  },
  {
   "cell_type": "markdown",
   "metadata": {},
   "source": [
    "8. Guardad como un archivo csv nuevo. Lo usaremos en el pair programming de mañana."
   ]
  },
  {
   "cell_type": "code",
   "execution_count": 53,
   "metadata": {},
   "outputs": [],
   "source": [
    "df.to_csv('datos/2016_3.csv') "
   ]
  }
 ],
 "metadata": {
  "kernelspec": {
   "display_name": "adalabenv",
   "language": "python",
   "name": "python3"
  },
  "language_info": {
   "codemirror_mode": {
    "name": "ipython",
    "version": 3
   },
   "file_extension": ".py",
   "mimetype": "text/x-python",
   "name": "python",
   "nbconvert_exporter": "python",
   "pygments_lexer": "ipython3",
   "version": "3.10.9"
  },
  "orig_nbformat": 4
 },
 "nbformat": 4,
 "nbformat_minor": 2
}
