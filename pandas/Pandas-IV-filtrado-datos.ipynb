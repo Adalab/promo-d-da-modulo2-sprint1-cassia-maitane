{
 "cells": [
  {
   "attachments": {},
   "cell_type": "markdown",
   "metadata": {},
   "source": [
    "# Pair Programming Pandas IV"
   ]
  },
  {
   "attachments": {},
   "cell_type": "markdown",
   "metadata": {},
   "source": [
    "Hoy seguiremos trabajando con los `csv's` que exploramos ayer. Para eso, ayer guardasteis un fichero al final del pair programming al que le habíamos elimiando algunas columnas. En concreto solo trabajaremos con el de `2016.xlsx` que guardasteis ayer.  \n",
    "\n",
    "En la lección de hoy tendréis que ir contestando una serie de preguntas que os planteamos. Para ello tendréis que aplicar los conocimientos adquiridos en la clase invertida sobre como filtrar datos en el DataFrame y como reemplazar valores en el DataFrame.  \n",
    "\n",
    "El filtrado de datos es una herramienta importante en el análisis exploratorio de datos porque nos permite como analista de datos enfocarse en un subconjunto específico de datos que es relevante para el problema que se está abordando. En muchas ocasiones, los conjuntos de datos pueden ser muy grandes y complejos, y analizar todo el conjunto puede ser abrumador y poco práctico. El filtrado de datos nos permite reducir el tamaño del conjunto de datos para poder realizar un análisis más detallado y eficiente. Además, el filtrado de datos puede ayudar a descubrir patrones y relaciones ocultas en los datos que de otra manera no serían evidentes. Al filtrar los datos de manera sistemática y examinar las relaciones entre las variables, se pueden encontrar patrones que sugieren correlaciones, causas subyacentes, anomalías y tendencias. Por último, el filtrado de datos también puede ayudar a identificar valores atípicos y errores en los datos que pueden tener un impacto significativo en los resultados del análisis. La eliminación de estos datos erróneos puede mejorar la precisión y la calidad del análisis.  \n",
    "\n",
    "Los objetivos de la clase de hoy son:\n",
    "\n",
    "1. Cargad el `csv` que guardasteis ayer.  \n",
    "    Antes de seguir con las preguntas, para evitar posibles errores con los nulos vamos a eliminar todos los nulos del DataFrame, esto lo haremos sobre el archivo de `2016.xlsx`. Para ello vamos a utilizar el método .dropna() de Pandas. Tendréis que ejecutar la siguiente línea de código para eliminar los nulos del DataFrame y poder seguir haciendo el resto de los ejercicios.  \n",
    "    ```python\n",
    "        df.dropna(inplace = True) \n",
    "    ``` \n",
    "\n",
    "    ¿Cuántas filas se han eliminado con esta línea de código?"
   ]
  },
  {
   "cell_type": "code",
   "execution_count": null,
   "metadata": {},
   "outputs": [],
   "source": []
  },
  {
   "attachments": {},
   "cell_type": "markdown",
   "metadata": {},
   "source": [
    "2. ¿Cuál es el número de incidencias que se han dado de tipo \"Sistema\", lo encontraréis en la columna de `categoría`?"
   ]
  },
  {
   "cell_type": "code",
   "execution_count": null,
   "metadata": {},
   "outputs": [],
   "source": []
  },
  {
   "attachments": {},
   "cell_type": "markdown",
   "metadata": {},
   "source": [
    "3. ¿Y para la categorías de \"Hardware\" y \"Software\"? Cread un dataframe nuevo con los resultados de este filtrado de datos.  \n",
    "    📌 **Nota** Este ejercicio se puede resolver usando dos condiciones de filtrado o usando el método `isin()`. Hacedlo con ambas herramientas.   \n",
    "\n",
    "    3.1 De los datos filtrados en el punto 3. ¿Cuántas de ellas son de tipo \"Solicitud\" y cuántas de tipo \"Problema\"?  \n",
    "\n",
    "    3.2 ¿Cuántas solicitudes tienen una satisfacción de más de 3?  \n",
    "\n",
    "    3.3 ¿Y cuántas tienen una satisfacción mayor o igual que 4 y han tardado menos de 3 días de resolución?  "
   ]
  },
  {
   "cell_type": "code",
   "execution_count": null,
   "metadata": {},
   "outputs": [],
   "source": []
  },
  {
   "attachments": {},
   "cell_type": "markdown",
   "metadata": {},
   "source": [
    "4. Ahora nuestro jefe quiere saber que cantidad de tickets ha habido en la segunda quincena de Enero. Cread un DataFrame nuevo con los tickets correspondientes a la segunda quincena de Enero.  \n",
    "\n",
    "    4.1. ¿Ha habido algun ticket en esta quincena que corresponda a la categoría de Solicitud?  \n",
    "    \n",
    "    4.2. Revisando los datos, nuestro jefe se ha dado cuenta que hay muchos tickets no tienen ninguna prioridad asignada. Esto no debería seguir    repitiéndose ya que cada ticket debe tener una prioridad para saber que urgencia debemos darle a cada ticket. Usando el `str.contains` extraed los tickets que no tengan una prioridad asignada o que tengan una prioridad baja.  "
   ]
  },
  {
   "cell_type": "code",
   "execution_count": null,
   "metadata": {},
   "outputs": [],
   "source": []
  },
  {
   "attachments": {},
   "cell_type": "markdown",
   "metadata": {},
   "source": [
    "5. Nuestro jefe quiere seguir buscando patrones y quiere saber si existe una relación entre el número de días que tarde en cerrarse un ticket y la satisfacción de los clientes. Para eso nos pide que:  \n",
    "\n",
    "    5.1 Extraigamos los tickets en lo que pasaron 5 o más días en ser solucionados.  \n",
    "\n",
    "    5.2 Extraigamos los tickets en los que pasaron menos de 5 días en ser solucionados.  \n",
    "\n",
    "    5.3 Usando como referencia los dos conjuntos de datos creados en los dos pasos anteriores:  \n",
    "    - ¿Qué valores tenemos de satisfacción en cada uno de ellos?  \n",
    "    - ¿En cuál de ellos hay más puntuaciones de 5 en relación a la satisfacción?"
   ]
  },
  {
   "cell_type": "code",
   "execution_count": null,
   "metadata": {},
   "outputs": [],
   "source": []
  },
  {
   "attachments": {},
   "cell_type": "markdown",
   "metadata": {},
   "source": [
    "6. Revisando los dataframes generados en el ejercicio anterior, nos hemos dado cuenta que hay una serie de empleados que tardan demasiado en resolver los problemas planteados por los clientes. Nuestro jefe quiere extraer los datos de estos empleados en concreto para saber que esta pasando. En concreto estos empleados son aquellos que tienen los siguientes id's: 1118.0, 730.0, 97.0, 1745.0. Crea un dataframe donde solo tengamos la información de estos empleados. Usad el método `isin()`, para resolver este ejercicio.  "
   ]
  },
  {
   "cell_type": "code",
   "execution_count": null,
   "metadata": {},
   "outputs": [],
   "source": []
  },
  {
   "attachments": {},
   "cell_type": "markdown",
   "metadata": {},
   "source": [
    "7. Utilizando la columna de `fecha` cread una nueva columna llamada `semestre` que contenga `1er semestre` o `2º semestre`. Aquellos tickets que pertenezcan a los seis primeros meses tendran el valor de \"1er trismestre\" y los tickets de julio en adelante tendrán el valor de \"2º semestre\"."
   ]
  },
  {
   "cell_type": "code",
   "execution_count": null,
   "metadata": {},
   "outputs": [],
   "source": []
  },
  {
   "cell_type": "markdown",
   "metadata": {},
   "source": [
    "8. Guardad como un archivo csv nuevo. Lo usaremos en el pair programming de mañana."
   ]
  },
  {
   "cell_type": "code",
   "execution_count": null,
   "metadata": {},
   "outputs": [],
   "source": []
  }
 ],
 "metadata": {
  "kernelspec": {
   "display_name": "adalabenv",
   "language": "python",
   "name": "python3"
  },
  "language_info": {
   "name": "python",
   "version": "3.10.9"
  },
  "orig_nbformat": 4
 },
 "nbformat": 4,
 "nbformat_minor": 2
}
