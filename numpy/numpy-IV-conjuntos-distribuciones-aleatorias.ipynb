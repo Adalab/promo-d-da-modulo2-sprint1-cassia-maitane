{
 "cells": [
  {
   "attachments": {},
   "cell_type": "markdown",
   "metadata": {},
   "source": [
    "# Pair Programming NumPy IV\n",
    "\n",
    "1. ¿Cómo podemos crear dos arrays de dos dimensiones usando el método random_sample que tengan los mismos valores?"
   ]
  },
  {
   "cell_type": "code",
   "execution_count": 1,
   "metadata": {},
   "outputs": [],
   "source": [
    "import numpy as np"
   ]
  },
  {
   "cell_type": "code",
   "execution_count": 2,
   "metadata": {},
   "outputs": [],
   "source": [
    "np.random.seed(29)"
   ]
  },
  {
   "cell_type": "code",
   "execution_count": 3,
   "metadata": {},
   "outputs": [
    {
     "data": {
      "text/plain": [
       "array([[0.86375999, 0.28490597, 0.07325639, 0.7632372 , 0.45271906],\n",
       "       [0.54229687, 0.72663578, 0.84890511, 0.76819998, 0.73314372],\n",
       "       [0.24198642, 0.72030869, 0.05837731, 0.40966893, 0.61067227],\n",
       "       [0.25591487, 0.28567193, 0.68446375, 0.84091974, 0.80915342]])"
      ]
     },
     "execution_count": 3,
     "metadata": {},
     "output_type": "execute_result"
    }
   ],
   "source": [
    "array1 = np.random.random_sample((4,5))\n",
    "array1"
   ]
  },
  {
   "cell_type": "code",
   "execution_count": 5,
   "metadata": {},
   "outputs": [],
   "source": [
    "np.random.seed(29)\n",
    "array2 = np.random.random_sample((4,5))"
   ]
  },
  {
   "cell_type": "code",
   "execution_count": 6,
   "metadata": {},
   "outputs": [
    {
     "data": {
      "text/plain": [
       "array([[0.86375999, 0.28490597, 0.07325639, 0.7632372 , 0.45271906],\n",
       "       [0.54229687, 0.72663578, 0.84890511, 0.76819998, 0.73314372],\n",
       "       [0.24198642, 0.72030869, 0.05837731, 0.40966893, 0.61067227],\n",
       "       [0.25591487, 0.28567193, 0.68446375, 0.84091974, 0.80915342]])"
      ]
     },
     "execution_count": 6,
     "metadata": {},
     "output_type": "execute_result"
    }
   ],
   "source": [
    "array2"
   ]
  },
  {
   "attachments": {},
   "cell_type": "markdown",
   "metadata": {},
   "source": [
    "2. Cread los siguientes arrays:\n",
    "- Un array de tres dimensiones con distribución uniforme de 2 x 3 x 5, con números entre 0 y 10, que no tengan decimales y extrae sus valores únicos almacenándolos en una variable.\n"
   ]
  },
  {
   "cell_type": "code",
   "execution_count": 7,
   "metadata": {},
   "outputs": [
    {
     "data": {
      "text/plain": [
       "array([[[6.34957546e-04, 9.23610095e+00, 8.06965163e+00, 9.56012401e+00,\n",
       "         4.84728990e+00],\n",
       "        [6.62574004e+00, 7.33806658e+00, 4.66112127e+00, 8.05448199e+00,\n",
       "         4.37987529e+00],\n",
       "        [1.29039770e+00, 6.42150572e+00, 4.78643703e+00, 6.58120772e+00,\n",
       "         8.33529313e-01]],\n",
       "\n",
       "       [[6.63723138e+00, 4.90940085e+00, 7.55314542e+00, 4.27873001e+00,\n",
       "         3.29810602e+00],\n",
       "        [4.77700018e+00, 9.19536873e+00, 3.07537439e+00, 9.84919299e+00,\n",
       "         1.13741203e+00],\n",
       "        [9.70515185e+00, 8.73361662e+00, 9.47262038e+00, 2.36569680e+00,\n",
       "         8.57536015e+00]]])"
      ]
     },
     "execution_count": 7,
     "metadata": {},
     "output_type": "execute_result"
    }
   ],
   "source": [
    "array3 = np.random.uniform(0,10, size = (2,3,5))\n",
    "array3"
   ]
  },
  {
   "cell_type": "code",
   "execution_count": 8,
   "metadata": {},
   "outputs": [
    {
     "data": {
      "text/plain": [
       "array([6.34957546e-04, 8.33529313e-01, 1.13741203e+00, 1.29039770e+00,\n",
       "       2.36569680e+00, 3.07537439e+00, 3.29810602e+00, 4.27873001e+00,\n",
       "       4.37987529e+00, 4.66112127e+00, 4.77700018e+00, 4.78643703e+00,\n",
       "       4.84728990e+00, 4.90940085e+00, 6.42150572e+00, 6.58120772e+00,\n",
       "       6.62574004e+00, 6.63723138e+00, 7.33806658e+00, 7.55314542e+00,\n",
       "       8.05448199e+00, 8.06965163e+00, 8.57536015e+00, 8.73361662e+00,\n",
       "       9.19536873e+00, 9.23610095e+00, 9.47262038e+00, 9.56012401e+00,\n",
       "       9.70515185e+00, 9.84919299e+00])"
      ]
     },
     "execution_count": 8,
     "metadata": {},
     "output_type": "execute_result"
    }
   ],
   "source": [
    "array3_unicos = np.unique(array3)\n",
    "array3_unicos"
   ]
  },
  {
   "attachments": {},
   "cell_type": "markdown",
   "metadata": {},
   "source": [
    "- Un array de tres dimensiones con distribución binomial de 2 x 3 x 5, con probabilidad de 0.3 y número de pruebas igual a 10. Igual que antes, extrae sus valores únicos y guarda los datos en una variable."
   ]
  },
  {
   "cell_type": "code",
   "execution_count": 10,
   "metadata": {},
   "outputs": [
    {
     "data": {
      "text/plain": [
       "array([[[3, 3, 4, 2, 5],\n",
       "        [3, 2, 6, 3, 1],\n",
       "        [5, 4, 4, 1, 2]],\n",
       "\n",
       "       [[2, 4, 2, 1, 4],\n",
       "        [8, 4, 4, 3, 3],\n",
       "        [4, 3, 3, 5, 3]]])"
      ]
     },
     "execution_count": 10,
     "metadata": {},
     "output_type": "execute_result"
    }
   ],
   "source": [
    "array4 = np.random.binomial(10,0.3, size = (2,3,5))\n",
    "array4"
   ]
  },
  {
   "cell_type": "code",
   "execution_count": 11,
   "metadata": {},
   "outputs": [
    {
     "data": {
      "text/plain": [
       "array([1, 2, 3, 4, 5, 6, 8])"
      ]
     },
     "execution_count": 11,
     "metadata": {},
     "output_type": "execute_result"
    }
   ],
   "source": [
    "array4_unicos = np.unique(array4)\n",
    "array4_unicos"
   ]
  },
  {
   "attachments": {},
   "cell_type": "markdown",
   "metadata": {},
   "source": [
    "3. En esta lección hemos aprendido algunos métodos de teórias de conjuntos. Usando los arrays de elementos únicos obtenidos en el ejercicio anterior realizad las siguientes operaciones:\n",
    "- Elementos comunes entre los dos arrays\n",
    "- Unión de los dos arrays\n",
    "- ¿Qué elementos están en el array derivado de la distribución uniforme y no en los únicos de la distribución binomial? Extrae los valores númericos\n",
    "\n",
    "⚠️ Explicar cada uno de los outputs que os salgan. Que significa cada una de estas operaciones que hemos ido extrayendo?"
   ]
  },
  {
   "cell_type": "code",
   "execution_count": 12,
   "metadata": {},
   "outputs": [
    {
     "data": {
      "text/plain": [
       "array([], dtype=float64)"
      ]
     },
     "execution_count": 12,
     "metadata": {},
     "output_type": "execute_result"
    }
   ],
   "source": [
    "# elementos comunes\n",
    "\n",
    "np.intersect1d(array3_unicos, array4_unicos)\n",
    "\n",
    "# devuelve un array vacio porque no hay ningun elemento en comun (array3 era todo floats y array4 era solo integers)"
   ]
  },
  {
   "cell_type": "code",
   "execution_count": 13,
   "metadata": {},
   "outputs": [
    {
     "data": {
      "text/plain": [
       "array([6.34957546e-04, 8.33529313e-01, 1.00000000e+00, 1.13741203e+00,\n",
       "       1.29039770e+00, 2.00000000e+00, 2.36569680e+00, 3.00000000e+00,\n",
       "       3.07537439e+00, 3.29810602e+00, 4.00000000e+00, 4.27873001e+00,\n",
       "       4.37987529e+00, 4.66112127e+00, 4.77700018e+00, 4.78643703e+00,\n",
       "       4.84728990e+00, 4.90940085e+00, 5.00000000e+00, 6.00000000e+00,\n",
       "       6.42150572e+00, 6.58120772e+00, 6.62574004e+00, 6.63723138e+00,\n",
       "       7.33806658e+00, 7.55314542e+00, 8.00000000e+00, 8.05448199e+00,\n",
       "       8.06965163e+00, 8.57536015e+00, 8.73361662e+00, 9.19536873e+00,\n",
       "       9.23610095e+00, 9.47262038e+00, 9.56012401e+00, 9.70515185e+00,\n",
       "       9.84919299e+00])"
      ]
     },
     "execution_count": 13,
     "metadata": {},
     "output_type": "execute_result"
    }
   ],
   "source": [
    "# union de los dos arrays\n",
    "\n",
    "np.union1d(array3_unicos, array4_unicos)\n",
    "\n",
    "# devuelve todos los valores de los dos arrays (porque no tienen elementos en comun); los integers ahora aparecen como floats \n",
    "# porque los arrays solo pueden tener un solo tipo de datos"
   ]
  },
  {
   "cell_type": "code",
   "execution_count": 14,
   "metadata": {},
   "outputs": [
    {
     "data": {
      "text/plain": [
       "array([6.34957546e-04, 8.33529313e-01, 1.13741203e+00, 1.29039770e+00,\n",
       "       2.36569680e+00, 3.07537439e+00, 3.29810602e+00, 4.27873001e+00,\n",
       "       4.37987529e+00, 4.66112127e+00, 4.77700018e+00, 4.78643703e+00,\n",
       "       4.84728990e+00, 4.90940085e+00, 6.42150572e+00, 6.58120772e+00,\n",
       "       6.62574004e+00, 6.63723138e+00, 7.33806658e+00, 7.55314542e+00,\n",
       "       8.05448199e+00, 8.06965163e+00, 8.57536015e+00, 8.73361662e+00,\n",
       "       9.19536873e+00, 9.23610095e+00, 9.47262038e+00, 9.56012401e+00,\n",
       "       9.70515185e+00, 9.84919299e+00])"
      ]
     },
     "execution_count": 14,
     "metadata": {},
     "output_type": "execute_result"
    }
   ],
   "source": [
    "# que elementos estan en array3_unicos y no en array4_unicos\n",
    "\n",
    "np.setdiff1d(array3_unicos, array4_unicos)\n",
    "\n",
    "# devuelve todos los elementos de array3_unicos porque no tienen elementos en comun"
   ]
  },
  {
   "attachments": {},
   "cell_type": "markdown",
   "metadata": {},
   "source": [
    "4. Cread dos arrays usando el método random.randint de Numpy con 80 elementos cada uno con números del 1-100, con los siguientes nombres array1 y array2.\n"
   ]
  },
  {
   "cell_type": "code",
   "execution_count": 32,
   "metadata": {},
   "outputs": [
    {
     "data": {
      "text/plain": [
       "array([[[58, 26,  9, 91, 36, 43, 54, 97, 98, 75],\n",
       "        [27, 22, 84, 45, 91, 39, 29,  1,  2, 41],\n",
       "        [32, 52, 24, 19, 44, 79, 17, 50, 75, 99],\n",
       "        [23, 21, 57, 60, 11, 90, 75, 60, 11,  6]],\n",
       "\n",
       "       [[40, 97, 80, 77,  7, 25, 22, 53, 24, 50],\n",
       "        [48, 86, 10, 26, 56, 28, 31, 97, 33, 19],\n",
       "        [51, 40, 13, 40, 73, 54, 57, 80, 46,  2],\n",
       "        [73, 41, 27, 63, 33, 18, 33,  6, 95, 29]]])"
      ]
     },
     "execution_count": 32,
     "metadata": {},
     "output_type": "execute_result"
    }
   ],
   "source": [
    "array_1 = np.random.randint(1,100, (2,4,10))\n",
    "array_1"
   ]
  },
  {
   "cell_type": "code",
   "execution_count": 33,
   "metadata": {},
   "outputs": [
    {
     "data": {
      "text/plain": [
       "array([[[34, 24, 93, 24, 88, 56, 88, 44, 16, 29],\n",
       "        [ 6, 65, 89, 28, 35, 16, 19, 83, 67, 99],\n",
       "        [46, 16, 65, 42, 59, 83, 21, 89, 35, 83],\n",
       "        [ 7, 28,  4, 18, 98, 55, 99, 25, 16, 96]],\n",
       "\n",
       "       [[29, 78, 34, 61, 40, 81, 24, 25, 92, 91],\n",
       "        [38, 30, 43, 22,  4,  1,  9, 22, 81, 37],\n",
       "        [60,  4, 16, 18, 26, 92, 71, 56, 38, 25],\n",
       "        [52,  3, 39, 32, 22, 59, 55, 87, 61, 13]]])"
      ]
     },
     "execution_count": 33,
     "metadata": {},
     "output_type": "execute_result"
    }
   ],
   "source": [
    "array_2 = np.random.randint(1,100, (2,4,10))\n",
    "array_2"
   ]
  },
  {
   "attachments": {},
   "cell_type": "markdown",
   "metadata": {},
   "source": [
    "- Extraed los valores únicos de cada uno de los arrays y los guardáis en variables en las que se les llame array1 y array2."
   ]
  },
  {
   "cell_type": "code",
   "execution_count": 34,
   "metadata": {},
   "outputs": [
    {
     "data": {
      "text/plain": [
       "array([ 1,  2,  6,  7,  9, 10, 11, 13, 17, 18, 19, 21, 22, 23, 24, 25, 26,\n",
       "       27, 28, 29, 31, 32, 33, 36, 39, 40, 41, 43, 44, 45, 46, 48, 50, 51,\n",
       "       52, 53, 54, 56, 57, 58, 60, 63, 73, 75, 77, 79, 80, 84, 86, 90, 91,\n",
       "       95, 97, 98, 99])"
      ]
     },
     "execution_count": 34,
     "metadata": {},
     "output_type": "execute_result"
    }
   ],
   "source": [
    "array_1 = np.unique(array_1)\n",
    "array_1"
   ]
  },
  {
   "cell_type": "code",
   "execution_count": 35,
   "metadata": {},
   "outputs": [
    {
     "data": {
      "text/plain": [
       "array([ 1,  3,  4,  6,  7,  9, 13, 16, 18, 19, 21, 22, 24, 25, 26, 28, 29,\n",
       "       30, 32, 34, 35, 37, 38, 39, 40, 42, 43, 44, 46, 52, 55, 56, 59, 60,\n",
       "       61, 65, 67, 71, 78, 81, 83, 87, 88, 89, 91, 92, 93, 96, 98, 99])"
      ]
     },
     "execution_count": 35,
     "metadata": {},
     "output_type": "execute_result"
    }
   ],
   "source": [
    "array_2 = np.unique(array_2)\n",
    "array_2"
   ]
  },
  {
   "attachments": {},
   "cell_type": "markdown",
   "metadata": {},
   "source": [
    "- Identificad los elementos presentes en el array1 pero no en el array2 y asiganarlo a una variable que se llame array3."
   ]
  },
  {
   "cell_type": "code",
   "execution_count": 36,
   "metadata": {},
   "outputs": [
    {
     "data": {
      "text/plain": [
       "array([ 2, 10, 11, 17, 23, 27, 31, 33, 36, 41, 45, 48, 50, 51, 53, 54, 57,\n",
       "       58, 63, 73, 75, 77, 79, 80, 84, 86, 90, 95, 97])"
      ]
     },
     "execution_count": 36,
     "metadata": {},
     "output_type": "execute_result"
    }
   ],
   "source": [
    "array_3 = np.setdiff1d(array_1,array_2)\n",
    "array_3"
   ]
  },
  {
   "attachments": {},
   "cell_type": "markdown",
   "metadata": {},
   "source": [
    "- Identificad los elementos presentes en el array2 pero no en el array1 y asiganarlo a una variable que se llame array4."
   ]
  },
  {
   "cell_type": "code",
   "execution_count": 37,
   "metadata": {},
   "outputs": [
    {
     "data": {
      "text/plain": [
       "array([ 3,  4, 16, 30, 34, 35, 37, 38, 42, 55, 59, 61, 65, 67, 71, 78, 81,\n",
       "       83, 87, 88, 89, 92, 93, 96])"
      ]
     },
     "execution_count": 37,
     "metadata": {},
     "output_type": "execute_result"
    }
   ],
   "source": [
    "array_4 = np.setdiff1d(array_2,array_1)\n",
    "array_4"
   ]
  },
  {
   "attachments": {},
   "cell_type": "markdown",
   "metadata": {},
   "source": [
    "- Identificad los elementos presentes en ambos arrays y asiganarlos a una variable que se llame array5."
   ]
  },
  {
   "cell_type": "code",
   "execution_count": 38,
   "metadata": {},
   "outputs": [
    {
     "data": {
      "text/plain": [
       "array([ 1,  6,  7,  9, 13, 18, 19, 21, 22, 24, 25, 26, 28, 29, 32, 39, 40,\n",
       "       43, 44, 46, 52, 56, 60, 91, 98, 99])"
      ]
     },
     "execution_count": 38,
     "metadata": {},
     "output_type": "execute_result"
    }
   ],
   "source": [
    "array_5 = np.intersect1d(array_1, array_2)\n",
    "array_5"
   ]
  },
  {
   "attachments": {},
   "cell_type": "markdown",
   "metadata": {},
   "source": [
    "- ¿Cuál es la relación que existe entre todos estos arrays? 💡 Pista 💡 Tendréis que usar las longitudes de cada uno de los arrays creados."
   ]
  },
  {
   "cell_type": "code",
   "execution_count": 39,
   "metadata": {},
   "outputs": [
    {
     "name": "stdout",
     "output_type": "stream",
     "text": [
      "55\n",
      "50\n",
      "29\n",
      "24\n",
      "26\n"
     ]
    }
   ],
   "source": [
    "print(len(array_1)) # valores unicos de array_1 original\n",
    "print(len(array_2)) # valores unicos de array_2 original\n",
    "print(len(array_3)) # la diferencia entre array_1 y array_2 (setdiff)\n",
    "print(len(array_4)) # la diferencia entre array_2 y array_1 (setdiff)\n",
    "print(len(array_5)) # los elementos en comun entre array_1 y array_2 (intersect)\n"
   ]
  },
  {
   "cell_type": "code",
   "execution_count": 44,
   "metadata": {},
   "outputs": [
    {
     "data": {
      "text/plain": [
       "True"
      ]
     },
     "execution_count": 44,
     "metadata": {},
     "output_type": "execute_result"
    }
   ],
   "source": [
    "(len(array_1) - len(array_2) + len(array_5)) == (len(array_3) - len(array_4) + len(array_5))"
   ]
  },
  {
   "cell_type": "code",
   "execution_count": null,
   "metadata": {},
   "outputs": [],
   "source": [
    "# esta ecuacion es True porque la diferencia de la congitud entre array_1 y array_2 es la misma que la diferencia \n",
    "# de la longitud entre array_3 y array_4. "
   ]
  }
 ],
 "metadata": {
  "kernelspec": {
   "display_name": "base",
   "language": "python",
   "name": "python3"
  },
  "language_info": {
   "codemirror_mode": {
    "name": "ipython",
    "version": 3
   },
   "file_extension": ".py",
   "mimetype": "text/x-python",
   "name": "python",
   "nbconvert_exporter": "python",
   "pygments_lexer": "ipython3",
   "version": "3.9.7"
  },
  "orig_nbformat": 4
 },
 "nbformat": 4,
 "nbformat_minor": 2
}
