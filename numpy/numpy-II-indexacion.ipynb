{
 "cells": [
  {
   "attachments": {},
   "cell_type": "markdown",
   "metadata": {},
   "source": [
    "# Pair Programming NumPy II"
   ]
  },
  {
   "attachments": {},
   "cell_type": "markdown",
   "metadata": {},
   "source": [
    "1. Cread un array de dos dimensiones de 5 filas y 3 columnas. Sobre el array creado anteriormente, extraed:\n",
    "- El valor de la primera fila y la segunda columna."
   ]
  },
  {
   "cell_type": "code",
   "execution_count": 1,
   "metadata": {},
   "outputs": [],
   "source": [
    "import numpy as np"
   ]
  },
  {
   "cell_type": "code",
   "execution_count": 2,
   "metadata": {},
   "outputs": [
    {
     "data": {
      "text/plain": [
       "array([[ 0,  1,  2],\n",
       "       [ 3,  4,  5],\n",
       "       [ 6,  7,  8],\n",
       "       [ 9, 10, 11],\n",
       "       [12, 13, 14]])"
      ]
     },
     "execution_count": 2,
     "metadata": {},
     "output_type": "execute_result"
    }
   ],
   "source": [
    "array_2d = np.arange(15).reshape(5,3)\n",
    "array_2d"
   ]
  },
  {
   "cell_type": "code",
   "execution_count": 3,
   "metadata": {},
   "outputs": [
    {
     "data": {
      "text/plain": [
       "1"
      ]
     },
     "execution_count": 3,
     "metadata": {},
     "output_type": "execute_result"
    }
   ],
   "source": [
    "array_2d[0,1]"
   ]
  },
  {
   "attachments": {},
   "cell_type": "markdown",
   "metadata": {},
   "source": [
    "- Los valores de la segunda fila y las dos primeras columnas."
   ]
  },
  {
   "cell_type": "code",
   "execution_count": 4,
   "metadata": {},
   "outputs": [
    {
     "data": {
      "text/plain": [
       "array([3, 4])"
      ]
     },
     "execution_count": 4,
     "metadata": {},
     "output_type": "execute_result"
    }
   ],
   "source": [
    "array_2d[1,0:2]"
   ]
  },
  {
   "attachments": {},
   "cell_type": "markdown",
   "metadata": {},
   "source": [
    "- Extraed las filas pares (incluyendo la 0) y todas las columnas."
   ]
  },
  {
   "cell_type": "code",
   "execution_count": 5,
   "metadata": {},
   "outputs": [
    {
     "data": {
      "text/plain": [
       "array([[ 0,  1,  2],\n",
       "       [ 6,  7,  8],\n",
       "       [12, 13, 14]])"
      ]
     },
     "execution_count": 5,
     "metadata": {},
     "output_type": "execute_result"
    }
   ],
   "source": [
    "array_2d[::2,:]"
   ]
  },
  {
   "attachments": {},
   "cell_type": "markdown",
   "metadata": {},
   "source": [
    "- Extraed los valores que sean mayores que 0.5."
   ]
  },
  {
   "cell_type": "code",
   "execution_count": 6,
   "metadata": {},
   "outputs": [
    {
     "data": {
      "text/plain": [
       "array([ 1,  2,  3,  4,  5,  6,  7,  8,  9, 10, 11, 12, 13, 14])"
      ]
     },
     "execution_count": 6,
     "metadata": {},
     "output_type": "execute_result"
    }
   ],
   "source": [
    "array_2d[array_2d > 0.5]"
   ]
  },
  {
   "attachments": {},
   "cell_type": "markdown",
   "metadata": {},
   "source": [
    "- Extraed los valores menores que 0.2 o mayores que 0.5"
   ]
  },
  {
   "cell_type": "code",
   "execution_count": 7,
   "metadata": {},
   "outputs": [
    {
     "data": {
      "text/plain": [
       "array([ 0,  1,  2,  3,  4,  5,  6,  7,  8,  9, 10, 11, 12, 13, 14])"
      ]
     },
     "execution_count": 7,
     "metadata": {},
     "output_type": "execute_result"
    }
   ],
   "source": [
    "array_2d[(array_2d < 0.2) | (array_2d > 0.5)]"
   ]
  },
  {
   "attachments": {},
   "cell_type": "markdown",
   "metadata": {},
   "source": [
    "2. Cread dos array de tres dimensiones:\n",
    "- El primero de 2 matrices, 5 filas y 3 columnas."
   ]
  },
  {
   "cell_type": "code",
   "execution_count": 8,
   "metadata": {},
   "outputs": [
    {
     "data": {
      "text/plain": [
       "array([[[21, 15,  4],\n",
       "        [ 2, 26, 10],\n",
       "        [ 1,  1, 23],\n",
       "        [ 8, 13,  5],\n",
       "        [26,  4, 23]],\n",
       "\n",
       "       [[14, 25,  9],\n",
       "        [29, 19, 15],\n",
       "        [23,  8, 15],\n",
       "        [11, 12,  2],\n",
       "        [29, 23, 28]]])"
      ]
     },
     "execution_count": 8,
     "metadata": {},
     "output_type": "execute_result"
    }
   ],
   "source": [
    "array_3d1 = np.random.randint(1,30, (2,5,3))\n",
    "array_3d1"
   ]
  },
  {
   "attachments": {},
   "cell_type": "markdown",
   "metadata": {},
   "source": [
    "- El segundo de 3 matrices, 2 filas y 5 columnas"
   ]
  },
  {
   "cell_type": "code",
   "execution_count": 16,
   "metadata": {},
   "outputs": [
    {
     "data": {
      "text/plain": [
       "array([[[21, 17, 20, 24, 21],\n",
       "        [16, 10, 21, 14, 27]],\n",
       "\n",
       "       [[19,  7,  6, 13, 22],\n",
       "        [14, 22, 14,  4, 19]],\n",
       "\n",
       "       [[23,  6, 14, 17, 11],\n",
       "        [29, 16,  4, 13,  7]]])"
      ]
     },
     "execution_count": 16,
     "metadata": {},
     "output_type": "execute_result"
    }
   ],
   "source": [
    "array_3d2 = np.random.randint(1,30, (3,2,5))\n",
    "array_3d2"
   ]
  },
  {
   "attachments": {},
   "cell_type": "markdown",
   "metadata": {},
   "source": [
    "- Haced un análisis exploratorio de los array creados. Recordad que en el ejercicio de ayer nos creamos una función para esto."
   ]
  },
  {
   "cell_type": "code",
   "execution_count": 10,
   "metadata": {},
   "outputs": [],
   "source": [
    "def propiedades(array):\n",
    "    print(f'forma: {array.shape}')\n",
    "    print(f'tamaño: {array.size}')\n",
    "    print(f'número de dimensiones: {array.ndim}')\n",
    "    print(f'typo de dato: {array.dtype}')"
   ]
  },
  {
   "cell_type": "code",
   "execution_count": 11,
   "metadata": {},
   "outputs": [
    {
     "name": "stdout",
     "output_type": "stream",
     "text": [
      "forma: (2, 5, 3)\n",
      "tamaño: 30\n",
      "número de dimensiones: 3\n",
      "typo de dato: int64\n"
     ]
    }
   ],
   "source": [
    "propiedades(array_3d1)"
   ]
  },
  {
   "cell_type": "code",
   "execution_count": 12,
   "metadata": {},
   "outputs": [
    {
     "name": "stdout",
     "output_type": "stream",
     "text": [
      "forma: (3, 2, 5)\n",
      "tamaño: 30\n",
      "número de dimensiones: 3\n",
      "typo de dato: int64\n"
     ]
    }
   ],
   "source": [
    "propiedades(array_3d2)"
   ]
  },
  {
   "attachments": {},
   "cell_type": "markdown",
   "metadata": {},
   "source": [
    "- Sumad los dos arrays. ¿Podéis? ¿Por qué?"
   ]
  },
  {
   "cell_type": "code",
   "execution_count": 13,
   "metadata": {},
   "outputs": [
    {
     "ename": "ValueError",
     "evalue": "operands could not be broadcast together with shapes (2,5,3) (3,2,5) ",
     "output_type": "error",
     "traceback": [
      "\u001b[0;31m---------------------------------------------------------------------------\u001b[0m",
      "\u001b[0;31mValueError\u001b[0m                                Traceback (most recent call last)",
      "\u001b[0;32m/tmp/ipykernel_1463/1219198351.py\u001b[0m in \u001b[0;36m<module>\u001b[0;34m\u001b[0m\n\u001b[0;32m----> 1\u001b[0;31m \u001b[0mnp\u001b[0m\u001b[0;34m.\u001b[0m\u001b[0madd\u001b[0m\u001b[0;34m(\u001b[0m\u001b[0marray_3d1\u001b[0m\u001b[0;34m,\u001b[0m \u001b[0marray_3d2\u001b[0m\u001b[0;34m)\u001b[0m\u001b[0;34m\u001b[0m\u001b[0;34m\u001b[0m\u001b[0m\n\u001b[0m\u001b[1;32m      2\u001b[0m \u001b[0;34m\u001b[0m\u001b[0m\n\u001b[1;32m      3\u001b[0m \u001b[0;31m# no se puede porque tienen distintas formas\u001b[0m\u001b[0;34m\u001b[0m\u001b[0;34m\u001b[0m\u001b[0m\n",
      "\u001b[0;31mValueError\u001b[0m: operands could not be broadcast together with shapes (2,5,3) (3,2,5) "
     ]
    }
   ],
   "source": [
    "np.add(array_3d1, array_3d2)\n",
    "\n",
    "# no se puede porque tienen distintas formas"
   ]
  },
  {
   "attachments": {},
   "cell_type": "markdown",
   "metadata": {},
   "source": [
    "- Para cambiar la forma de un array y poder hacer operaciones entre arrays que tienen distintas formas hemos aprendido dos métodos:\n",
    "    - reshape()\n",
    "    - transpose()\n",
    "\n",
    "    Utiliza estas dos funciones para cambiar la forma de los array y hacer operaciones entre ellos."
   ]
  },
  {
   "cell_type": "code",
   "execution_count": 17,
   "metadata": {},
   "outputs": [
    {
     "data": {
      "text/plain": [
       "array([[[21, 17, 20],\n",
       "        [24, 21, 16],\n",
       "        [10, 21, 14],\n",
       "        [27, 19,  7],\n",
       "        [ 6, 13, 22]],\n",
       "\n",
       "       [[14, 22, 14],\n",
       "        [ 4, 19, 23],\n",
       "        [ 6, 14, 17],\n",
       "        [11, 29, 16],\n",
       "        [ 4, 13,  7]]])"
      ]
     },
     "execution_count": 17,
     "metadata": {},
     "output_type": "execute_result"
    }
   ],
   "source": [
    "array_3d2_nuevo = np.reshape(array_3d2, (2,5,3))\n",
    "array_3d2_nuevo"
   ]
  },
  {
   "cell_type": "code",
   "execution_count": 18,
   "metadata": {},
   "outputs": [
    {
     "data": {
      "text/plain": [
       "array([[[21, 19, 23],\n",
       "        [17,  7,  6],\n",
       "        [20,  6, 14],\n",
       "        [24, 13, 17],\n",
       "        [21, 22, 11]],\n",
       "\n",
       "       [[16, 14, 29],\n",
       "        [10, 22, 16],\n",
       "        [21, 14,  4],\n",
       "        [14,  4, 13],\n",
       "        [27, 19,  7]]])"
      ]
     },
     "execution_count": 18,
     "metadata": {},
     "output_type": "execute_result"
    }
   ],
   "source": [
    "array_3d2_nuevo2 = np.transpose(array_3d2, (1,2,0))\n",
    "array_3d2_nuevo2"
   ]
  },
  {
   "cell_type": "code",
   "execution_count": 20,
   "metadata": {},
   "outputs": [
    {
     "data": {
      "text/plain": [
       "array([[[42, 36, 43],\n",
       "        [41, 28, 22],\n",
       "        [30, 27, 28],\n",
       "        [51, 32, 24],\n",
       "        [27, 35, 33]],\n",
       "\n",
       "       [[30, 36, 43],\n",
       "        [14, 41, 39],\n",
       "        [27, 28, 21],\n",
       "        [25, 33, 29],\n",
       "        [31, 32, 14]]])"
      ]
     },
     "execution_count": 20,
     "metadata": {},
     "output_type": "execute_result"
    }
   ],
   "source": [
    "np.add(array_3d2_nuevo, array_3d2_nuevo2)\n",
    "\n",
    "# ahora sí que podemos sumar porque tienen la misma forma"
   ]
  },
  {
   "cell_type": "code",
   "execution_count": 21,
   "metadata": {},
   "outputs": [
    {
     "data": {
      "text/plain": [
       "array([[[  0,  -2,  -3],\n",
       "        [  7,  14,  10],\n",
       "        [-10,  15,   0],\n",
       "        [  3,   6, -10],\n",
       "        [-15,  -9,  11]],\n",
       "\n",
       "       [[ -2,   8, -15],\n",
       "        [ -6,  -3,   7],\n",
       "        [-15,   0,  13],\n",
       "        [ -3,  25,   3],\n",
       "        [-23,  -6,   0]]])"
      ]
     },
     "execution_count": 21,
     "metadata": {},
     "output_type": "execute_result"
    }
   ],
   "source": [
    "np.subtract(array_3d2_nuevo, array_3d2_nuevo2)"
   ]
  },
  {
   "cell_type": "code",
   "execution_count": 22,
   "metadata": {},
   "outputs": [
    {
     "data": {
      "text/plain": [
       "array([[[441, 323, 460],\n",
       "        [408, 147,  96],\n",
       "        [200, 126, 196],\n",
       "        [648, 247, 119],\n",
       "        [126, 286, 242]],\n",
       "\n",
       "       [[224, 308, 406],\n",
       "        [ 40, 418, 368],\n",
       "        [126, 196,  68],\n",
       "        [154, 116, 208],\n",
       "        [108, 247,  49]]])"
      ]
     },
     "execution_count": 22,
     "metadata": {},
     "output_type": "execute_result"
    }
   ],
   "source": [
    "np.multiply(array_3d2_nuevo, array_3d2_nuevo2)"
   ]
  },
  {
   "cell_type": "code",
   "execution_count": 23,
   "metadata": {},
   "outputs": [
    {
     "data": {
      "text/plain": [
       "array([[[1.        , 0.89473684, 0.86956522],\n",
       "        [1.41176471, 3.        , 2.66666667],\n",
       "        [0.5       , 3.5       , 1.        ],\n",
       "        [1.125     , 1.46153846, 0.41176471],\n",
       "        [0.28571429, 0.59090909, 2.        ]],\n",
       "\n",
       "       [[0.875     , 1.57142857, 0.48275862],\n",
       "        [0.4       , 0.86363636, 1.4375    ],\n",
       "        [0.28571429, 1.        , 4.25      ],\n",
       "        [0.78571429, 7.25      , 1.23076923],\n",
       "        [0.14814815, 0.68421053, 1.        ]]])"
      ]
     },
     "execution_count": 23,
     "metadata": {},
     "output_type": "execute_result"
    }
   ],
   "source": [
    "np.divide(array_3d2_nuevo, array_3d2_nuevo2)"
   ]
  }
 ],
 "metadata": {
  "kernelspec": {
   "display_name": "base",
   "language": "python",
   "name": "python3"
  },
  "language_info": {
   "codemirror_mode": {
    "name": "ipython",
    "version": 3
   },
   "file_extension": ".py",
   "mimetype": "text/x-python",
   "name": "python",
   "nbconvert_exporter": "python",
   "pygments_lexer": "ipython3",
   "version": "3.9.7"
  },
  "orig_nbformat": 4
 },
 "nbformat": 4,
 "nbformat_minor": 2
}
