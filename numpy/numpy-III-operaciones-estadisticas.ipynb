{
 "cells": [
  {
   "attachments": {},
   "cell_type": "markdown",
   "metadata": {},
   "source": [
    "# Pair Programming NumPy III"
   ]
  },
  {
   "cell_type": "code",
   "execution_count": 1,
   "metadata": {},
   "outputs": [],
   "source": [
    "import numpy as np"
   ]
  },
  {
   "attachments": {},
   "cell_type": "markdown",
   "metadata": {},
   "source": [
    "En esta lección hemos aprendido algunas de las operaciones matemáticas más importantes que podemos aplicar a un array. Hoy pondremos en práctica algunas de estas operaciones, además de recordar algunas de los métodos aprendidos en otras lecciones y recordar como podemos iterar por un array.  \n",
    "1. Cread un array de tres dimensiones de 2 matrices, 3 filas y 5 columnas cuyos valores solo tengan 1 decimales."
   ]
  },
  {
   "cell_type": "code",
   "execution_count": 2,
   "metadata": {},
   "outputs": [
    {
     "data": {
      "text/plain": [
       "array([[[0.8, 0.8, 0.7, 0.5, 0.2],\n",
       "        [0.4, 0.7, 0.6, 0.3, 0.4],\n",
       "        [0.2, 0. , 0.8, 0.2, 0.1]],\n",
       "\n",
       "       [[0.2, 0.4, 0.6, 0.4, 0.1],\n",
       "        [0.7, 0.7, 0.5, 0.7, 0.5],\n",
       "        [0.5, 0.7, 0.7, 0.4, 0.7]]])"
      ]
     },
     "execution_count": 2,
     "metadata": {},
     "output_type": "execute_result"
    }
   ],
   "source": [
    "array1 = np.random.rand(2,3,5).round(1)\n",
    "array1"
   ]
  },
  {
   "attachments": {},
   "cell_type": "markdown",
   "metadata": {},
   "source": [
    "2. Calculad la media del array y almacenarlos en una variable. Redondead a un decimal. "
   ]
  },
  {
   "cell_type": "code",
   "execution_count": 3,
   "metadata": {},
   "outputs": [
    {
     "data": {
      "text/plain": [
       "0.5"
      ]
     },
     "execution_count": 3,
     "metadata": {},
     "output_type": "execute_result"
    }
   ],
   "source": [
    "media = np.mean(array1).round(1)\n",
    "media"
   ]
  },
  {
   "attachments": {},
   "cell_type": "markdown",
   "metadata": {},
   "source": [
    "3. Calculad el valor máximo del array y almacenarlos en una variable. Redondead a un decimal."
   ]
  },
  {
   "cell_type": "code",
   "execution_count": 4,
   "metadata": {},
   "outputs": [
    {
     "data": {
      "text/plain": [
       "0.8"
      ]
     },
     "execution_count": 4,
     "metadata": {},
     "output_type": "execute_result"
    }
   ],
   "source": [
    "maximo = np.max(array1).round(1)\n",
    "maximo"
   ]
  },
  {
   "attachments": {},
   "cell_type": "markdown",
   "metadata": {},
   "source": [
    "4. Calculad el valor mínimo del array y almacenarlos en una variable. Redondead a un decimal.\n"
   ]
  },
  {
   "cell_type": "code",
   "execution_count": 5,
   "metadata": {},
   "outputs": [
    {
     "data": {
      "text/plain": [
       "0.0"
      ]
     },
     "execution_count": 5,
     "metadata": {},
     "output_type": "execute_result"
    }
   ],
   "source": [
    "minimo = np.min(array1).round(1)\n",
    "minimo"
   ]
  },
  {
   "attachments": {},
   "cell_type": "markdown",
   "metadata": {},
   "source": [
    "5. Cread un array vacío con la misma forma y dimensiones que el array creado anteriormente.  \n",
    "\n",
    "    Vamos a reemplazar los valores de la matriz vacía que nos acabamos de crear pero basándonos en los valores del primer array bajo las siguientes condiciones:  \n",
    "    - Si el valor del array es igual que la media, se reemplaza por \"A\".\n",
    "    - Si el valor del array es mayor que la media, se reemplaza por \"B\".\n",
    "    - Si el valor del array es menor que la media, se reemplaza por \"C\".\n",
    "    - Si el valor es igual que el máximo, se reemplaza por \"D\".\n",
    "    - Si el valor es igual que el mínimo, se reemplaza por \"E\".\n",
    "    ```python\n",
    "    # a modo de ejemplo. Si tenemos el siguiente array\n",
    "    [[[0.4, 0.7, 0.2, 0.9, 0.2],\n",
    "        [0.1, 0.9, 0.6, 0.1, 0.2],\n",
    "        [1. , 0.2, 0.1, 0.8, 0.3]],\n",
    "\n",
    "    [[0. , 0.3, 0.4, 0.5, 0.1],\n",
    "        [0.5, 0.7, 0.9, 0. , 0.8],\n",
    "        [0.5, 0.3, 0.5, 0.8, 0.1]]])\n",
    "\n",
    "    # sabiendo que la media es 0.4 y el máximo es 1.0 y el mínimo es 0.0\n",
    "\n",
    "    # nuestro array vacío debería quedar como este: \n",
    "    [[[\"A\", \"B\", \"C\", \"B\", \"C\"],\n",
    "        [\"C\", \"B\", \"B\", \"C\", \"C\"],\n",
    "        [\"D\" , \"C\", \"C\", \"B\", \"C\"]],\n",
    "\n",
    "    [[\"E\" , \"C\", \"A\", \"B\", \"C\"],\n",
    "        [\"B\", \"B\",\"B\", \"E\" , \"B\"],\n",
    "        [\"B\", \"C\", \"B\", \"B\", \"C\"]]])\n",
    "    ```\n",
    "    💡 Pista 💡 Tendréis que iterar por el array y cambiar los valores de la matriz vacía. Para eso tendremos que usar distintos condicionales. "
   ]
  },
  {
   "cell_type": "code",
   "execution_count": 6,
   "metadata": {},
   "outputs": [
    {
     "data": {
      "text/plain": [
       "array([[['', '', '', '', ''],\n",
       "        ['', '', '', '', ''],\n",
       "        ['', '', '', '', '']],\n",
       "\n",
       "       [['', '', '', '', ''],\n",
       "        ['', '', '', '', ''],\n",
       "        ['', '', '', '', '']]], dtype='<U1')"
      ]
     },
     "execution_count": 6,
     "metadata": {},
     "output_type": "execute_result"
    }
   ],
   "source": [
    "vacio = np.empty((2,3,5), dtype=str)\n",
    "vacio"
   ]
  },
  {
   "cell_type": "code",
   "execution_count": 7,
   "metadata": {},
   "outputs": [
    {
     "data": {
      "text/plain": [
       "array([[['D', 'D', 'B', 'A', 'C'],\n",
       "        ['C', 'B', 'B', 'C', 'C'],\n",
       "        ['C', 'E', 'D', 'C', 'C']],\n",
       "\n",
       "       [['C', 'C', 'B', 'C', 'C'],\n",
       "        ['B', 'B', 'A', 'B', 'A'],\n",
       "        ['A', 'B', 'B', 'C', 'B']]], dtype='<U1')"
      ]
     },
     "execution_count": 7,
     "metadata": {},
     "output_type": "execute_result"
    }
   ],
   "source": [
    "for indice_mat, matriz in enumerate(array1):\n",
    "    for indice_fila, fila in enumerate(matriz):\n",
    "        for indice_col, columna in enumerate(fila):\n",
    "            if array1[indice_mat,indice_fila, indice_col] == np.mean(array1).round(1):\n",
    "                vacio[indice_mat,indice_fila, indice_col] = 'A'\n",
    "            elif array1[indice_mat,indice_fila, indice_col] > np.mean(array1):\n",
    "                vacio[indice_mat,indice_fila, indice_col] = 'B'\n",
    "            elif array1[indice_mat,indice_fila, indice_col] < np.mean(array1):\n",
    "                vacio[indice_mat,indice_fila, indice_col] = 'C'\n",
    "            if array1[indice_mat,indice_fila, indice_col] == np.max(array1):\n",
    "                vacio[indice_mat,indice_fila, indice_col] = 'D'\n",
    "            elif array1[indice_mat,indice_fila, indice_col] == np.min(array1):\n",
    "                vacio[indice_mat,indice_fila, indice_col] = 'E'\n",
    "vacio"
   ]
  },
  {
   "cell_type": "code",
   "execution_count": 8,
   "metadata": {},
   "outputs": [
    {
     "data": {
      "text/plain": [
       "(2, 3, 5)"
      ]
     },
     "execution_count": 8,
     "metadata": {},
     "output_type": "execute_result"
    }
   ],
   "source": [
    "# otra posible solución:\n",
    "vacio2 = np.empty((2,3,5), dtype=str)\n",
    "vacio2.shape"
   ]
  },
  {
   "cell_type": "code",
   "execution_count": 9,
   "metadata": {},
   "outputs": [
    {
     "data": {
      "text/plain": [
       "array([[['D', 'D', 'B', 'A', 'C'],\n",
       "        ['C', 'B', 'B', 'C', 'C'],\n",
       "        ['C', 'E', 'D', 'C', 'C']],\n",
       "\n",
       "       [['C', 'C', 'B', 'C', 'C'],\n",
       "        ['B', 'B', 'A', 'B', 'A'],\n",
       "        ['A', 'B', 'B', 'C', 'B']]], dtype='<U1')"
      ]
     },
     "execution_count": 9,
     "metadata": {},
     "output_type": "execute_result"
    }
   ],
   "source": [
    "for indice_mat in range(vacio2.shape[0]):\n",
    "    for indice_fila in range(vacio2.shape[1]):\n",
    "        for indice_col in range(vacio2.shape[2]):\n",
    "            if array1[indice_mat,indice_fila, indice_col] == np.mean(array1).round(1):\n",
    "                vacio2[indice_mat,indice_fila, indice_col] = 'A'\n",
    "            elif array1[indice_mat,indice_fila, indice_col] > np.mean(array1):\n",
    "                vacio2[indice_mat,indice_fila, indice_col] = 'B'\n",
    "            elif array1[indice_mat,indice_fila, indice_col] < np.mean(array1):\n",
    "                vacio2[indice_mat,indice_fila, indice_col] = 'C'\n",
    "            if array1[indice_mat,indice_fila, indice_col] == np.max(array1):\n",
    "                vacio2[indice_mat,indice_fila, indice_col] = 'D'\n",
    "            elif array1[indice_mat,indice_fila, indice_col] == np.min(array1):\n",
    "                vacio2[indice_mat,indice_fila, indice_col] = 'E'\n",
    "vacio2"
   ]
  },
  {
   "cell_type": "markdown",
   "metadata": {},
   "source": [
    "6. Estupendo, tenemos un array con strings. Ahora realizaremos un ejercicio similar al anterior, pero en este caso nos crearemos un array vacío unidimensional de 30 elementos. Al final de este ejercicio acabaremos teniendo un array de tres dimensiones con la misma forma que el primero que nos creamos.  \n",
    "\n",
    "    En este caso:\n",
    "    - Si el valor del array creado en el ejercicio anterior es \"A\" o \"B\" lo reemplazaremos por 1\n",
    "    - Si el valor del array creado en el ejercicio anterior es \"C\" o \"D\" lo reemplazaremos por 2\n",
    "    - Si el valor del array creado en el ejercicio anterior es \"E\" lo reemplazaremos por 3.  \n",
    "    \n",
    "    Una vez que hayas reemplazado todos los valores cambiad la forma del array para que sea de tres dimensiones, con 2 matrices, 3 filas y 5 columnas."
   ]
  },
  {
   "cell_type": "code",
   "execution_count": 23,
   "metadata": {},
   "outputs": [
    {
     "data": {
      "text/plain": [
       "array([           30873408,                   0, 7597414380956903779,\n",
       "       8386387640092685422, 8511917019643144545, 7955925896722213985,\n",
       "       7953763900378870794, 8083217375687632231, 6944653332839410793,\n",
       "       7935410980476553786, 7953766387382562416, 3251647507869673522,\n",
       "       3328260318368181809, 6992446851629719596, 3539929536506458738,\n",
       "       3690199853871609134, 3978136634597059635, 2980594823435204400,\n",
       "       3346295607898553866, 2896498875196207713, 3183534901335830619,\n",
       "                        81,     139714846756000,     139714846756000,\n",
       "       8241879965841649257, 2318844026221584754, 3179576659273588768,\n",
       "       4122255134160728864, 3976168435753498162, 6716610011817260344])"
      ]
     },
     "execution_count": 23,
     "metadata": {},
     "output_type": "execute_result"
    }
   ],
   "source": [
    "# solcución cambiando la forma al principio y no al final\n",
    "array2 = np.empty(30, dtype=int)\n",
    "array2"
   ]
  },
  {
   "cell_type": "code",
   "execution_count": 24,
   "metadata": {},
   "outputs": [
    {
     "data": {
      "text/plain": [
       "array([[[           30873408,                   0, 7597414380956903779,\n",
       "         8386387640092685422, 8511917019643144545],\n",
       "        [7955925896722213985, 7953763900378870794, 8083217375687632231,\n",
       "         6944653332839410793, 7935410980476553786],\n",
       "        [7953766387382562416, 3251647507869673522, 3328260318368181809,\n",
       "         6992446851629719596, 3539929536506458738]],\n",
       "\n",
       "       [[3690199853871609134, 3978136634597059635, 2980594823435204400,\n",
       "         3346295607898553866, 2896498875196207713],\n",
       "        [3183534901335830619,                  81,     139714846756000,\n",
       "             139714846756000, 8241879965841649257],\n",
       "        [2318844026221584754, 3179576659273588768, 4122255134160728864,\n",
       "         3976168435753498162, 6716610011817260344]]])"
      ]
     },
     "execution_count": 24,
     "metadata": {},
     "output_type": "execute_result"
    }
   ],
   "source": [
    "array2_3d = array2.reshape(2,3,5)\n",
    "array2_3d"
   ]
  },
  {
   "cell_type": "code",
   "execution_count": 25,
   "metadata": {},
   "outputs": [
    {
     "data": {
      "text/plain": [
       "array([[[2, 2, 1, 1, 2],\n",
       "        [2, 1, 1, 2, 2],\n",
       "        [2, 3, 2, 2, 2]],\n",
       "\n",
       "       [[2, 2, 1, 2, 2],\n",
       "        [1, 1, 1, 1, 1],\n",
       "        [1, 1, 1, 2, 1]]])"
      ]
     },
     "execution_count": 25,
     "metadata": {},
     "output_type": "execute_result"
    }
   ],
   "source": [
    "for indice_mat, matriz in enumerate(array2_3d):\n",
    "    for indice_fila, fila in enumerate(matriz):\n",
    "        for indice_col, columna in enumerate(fila):\n",
    "            if vacio[indice_mat, indice_fila, indice_col] == 'A' or vacio[indice_mat, indice_fila, indice_col] == 'B':\n",
    "                array2_3d[indice_mat, indice_fila, indice_col] = 1\n",
    "            elif vacio[indice_mat,indice_fila, indice_col] == 'C' or vacio[indice_mat, indice_fila, indice_col] == 'D':\n",
    "                array2_3d[indice_mat, indice_fila, indice_col] = 2\n",
    "            elif vacio[indice_mat,indice_fila, indice_col] == 'E':\n",
    "                array2_3d[indice_mat, indice_fila, indice_col] = 3\n",
    "array2_3d"
   ]
  },
  {
   "cell_type": "code",
   "execution_count": 13,
   "metadata": {},
   "outputs": [
    {
     "data": {
      "text/plain": [
       "array([4605380978949069210, 4605380978949069210, 4604480259023595110,\n",
       "       4602678819172646912, 4596373779694328218, 4600877379321698714,\n",
       "       4604480259023595110, 4603579539098121011, 4599075939470750515,\n",
       "       4600877379321698714, 4596373779694328218,                   0,\n",
       "       4605380978949069210, 4596373779694328218, 4591870180066957722,\n",
       "       4596373779694328218, 4600877379321698714, 4603579539098121011,\n",
       "       4600877379321698714, 4591870180066957722, 4604480259023595110,\n",
       "       4604480259023595110, 4602678819172646912, 4604480259023595110,\n",
       "       4602678819172646912, 4602678819172646912, 4604480259023595110,\n",
       "       4604480259023595110, 4600877379321698714, 4604480259023595110])"
      ]
     },
     "execution_count": 13,
     "metadata": {},
     "output_type": "execute_result"
    }
   ],
   "source": [
    "# cambiando la forma al final\n",
    "array3 = np.empty(30, dtype=int)\n",
    "array3"
   ]
  },
  {
   "cell_type": "code",
   "execution_count": 14,
   "metadata": {},
   "outputs": [
    {
     "data": {
      "text/plain": [
       "array([[['D', 'D', 'B', 'A', 'C'],\n",
       "        ['C', 'B', 'B', 'C', 'C'],\n",
       "        ['C', 'E', 'D', 'C', 'C']],\n",
       "\n",
       "       [['C', 'C', 'B', 'C', 'C'],\n",
       "        ['B', 'B', 'A', 'B', 'A'],\n",
       "        ['A', 'B', 'B', 'C', 'B']]], dtype='<U1')"
      ]
     },
     "execution_count": 14,
     "metadata": {},
     "output_type": "execute_result"
    }
   ],
   "source": [
    "vacio"
   ]
  },
  {
   "cell_type": "code",
   "execution_count": 20,
   "metadata": {},
   "outputs": [],
   "source": [
    "contador = 0\n",
    "for matriz in vacio:\n",
    "    for fila in matriz:\n",
    "        for elemento in fila:\n",
    "            if elemento == 'A' or elemento == 'B':\n",
    "                array3[contador] = 1\n",
    "            elif elemento == 'C' or elemento == 'D':\n",
    "                array3[contador] = 2\n",
    "            else:\n",
    "                array3[contador] = 3\n",
    "            contador += 1"
   ]
  },
  {
   "cell_type": "code",
   "execution_count": 21,
   "metadata": {},
   "outputs": [
    {
     "data": {
      "text/plain": [
       "array([2, 2, 1, 1, 2, 2, 1, 1, 2, 2, 2, 3, 2, 2, 2, 2, 2, 1, 2, 2, 1, 1,\n",
       "       1, 1, 1, 1, 1, 1, 2, 1])"
      ]
     },
     "execution_count": 21,
     "metadata": {},
     "output_type": "execute_result"
    }
   ],
   "source": [
    "array3"
   ]
  },
  {
   "cell_type": "code",
   "execution_count": 22,
   "metadata": {},
   "outputs": [
    {
     "data": {
      "text/plain": [
       "array([[[2, 2, 1, 1, 2],\n",
       "        [2, 1, 1, 2, 2],\n",
       "        [2, 3, 2, 2, 2]],\n",
       "\n",
       "       [[2, 2, 1, 2, 2],\n",
       "        [1, 1, 1, 1, 1],\n",
       "        [1, 1, 1, 2, 1]]])"
      ]
     },
     "execution_count": 22,
     "metadata": {},
     "output_type": "execute_result"
    }
   ],
   "source": [
    "array3_3d = array3.reshape(2,3,5)\n",
    "array3_3d"
   ]
  }
 ],
 "metadata": {
  "kernelspec": {
   "display_name": "base",
   "language": "python",
   "name": "python3"
  },
  "language_info": {
   "codemirror_mode": {
    "name": "ipython",
    "version": 3
   },
   "file_extension": ".py",
   "mimetype": "text/x-python",
   "name": "python",
   "nbconvert_exporter": "python",
   "pygments_lexer": "ipython3",
   "version": "3.10.9"
  },
  "orig_nbformat": 4
 },
 "nbformat": 4,
 "nbformat_minor": 2
}
