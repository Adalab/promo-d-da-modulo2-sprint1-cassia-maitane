{
 "cells": [
  {
   "attachments": {},
   "cell_type": "markdown",
   "metadata": {},
   "source": [
    "# **Ejercicios de pair programming Módulo 2 - Sprint 1**\n",
    "## **NumPy I - Introducción a NumPy**\n",
    "\n",
    "---"
   ]
  },
  {
   "attachments": {},
   "cell_type": "markdown",
   "metadata": {},
   "source": [
    "Empezamos nuevo bloque de ejercicios de pair programming de NumPy.\n",
    "En el ejercicio de hoy vamos a empezar a trabajar con NumPy. El objetivo de estos ejericicios es que creeis una serie de arrays, y hagáis una serie de operaciones matemáticas con ellos.  \n",
    "1. Cread tres arrays: de una, dos y tres dimensiones.\n",
    "Lo podéis hacer usando los métodos de random que hemos aprendido o a través de listas em algunos casos.  \n",
    "    📌 Nota\n",
    "    - El array de 2 dimensiones debe ser de 2 filas y 3 columnas\n",
    "    - El array de 3 dimensiones debe ser de 2 matrices, 3 filas y 5 columnas"
   ]
  },
  {
   "cell_type": "code",
   "execution_count": null,
   "metadata": {},
   "outputs": [],
   "source": []
  },
  {
   "attachments": {},
   "cell_type": "markdown",
   "metadata": {},
   "source": [
    "2. Chequed las las propiedades básicas de cada array que os hayáis creado. Usad en una función que nos devuelva las propiedades de una array que le pasemos."
   ]
  },
  {
   "cell_type": "code",
   "execution_count": null,
   "metadata": {},
   "outputs": [],
   "source": []
  },
  {
   "attachments": {},
   "cell_type": "markdown",
   "metadata": {},
   "source": [
    "3. Cread una matriz identidad de dos dimensiones de 3 filas y 3 columnas"
   ]
  },
  {
   "cell_type": "code",
   "execution_count": null,
   "metadata": {},
   "outputs": [],
   "source": []
  },
  {
   "attachments": {},
   "cell_type": "markdown",
   "metadata": {},
   "source": [
    "4. Cread una matriz de tres dimensiones de unos igual a la martiz de tres dimensiones creada en el primer ejercicio."
   ]
  },
  {
   "cell_type": "code",
   "execution_count": null,
   "metadata": {},
   "outputs": [],
   "source": []
  },
  {
   "cell_type": "markdown",
   "metadata": {},
   "source": [
    "5. Es el momento de hacer algunas operaciones entre arrays  \n",
    "    - ¿Se puede sumar el array de dos dimensiones que creamos en el primer ejecicios a la matriz identidad? ¿Por qué?\n",
    "    - En caso de que no se puedan sumar, busca una solución para sumar una matriz identidad a otra. La solución puede ser crear un array nuevo.\n",
    "    - Multiplicad la matriz identidad por la nueva matriz que os creasteis en el ejercicio anterior.\n",
    "    - Dividid las dos matricess"
   ]
  },
  {
   "cell_type": "code",
   "execution_count": null,
   "metadata": {},
   "outputs": [],
   "source": []
  }
 ],
 "metadata": {
  "kernelspec": {
   "display_name": "Python 3",
   "language": "python",
   "name": "python3"
  },
  "language_info": {
   "name": "python",
   "version": "3.6.9"
  },
  "orig_nbformat": 4,
  "vscode": {
   "interpreter": {
    "hash": "31f2aee4e71d21fbe5cf8b01ff0e069b9275f58929596ceb00d14d90e3e16cd6"
   }
  }
 },
 "nbformat": 4,
 "nbformat_minor": 2
}
